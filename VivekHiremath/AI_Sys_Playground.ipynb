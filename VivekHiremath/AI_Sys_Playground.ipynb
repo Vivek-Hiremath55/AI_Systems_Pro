{
  "nbformat": 4,
  "nbformat_minor": 0,
  "metadata": {
    "colab": {
      "provenance": []
    },
    "kernelspec": {
      "name": "python3",
      "display_name": "Python 3"
    },
    "language_info": {
      "name": "python"
    }
  },
  "cells": [
    {
      "cell_type": "markdown",
      "source": [
        "# Hi Team!\n",
        "\n",
        "As the name suggests, this notebook is for us to try out models, filters, etc that we would use in our pipelines.\n",
        "\n"
      ],
      "metadata": {
        "id": "QVa99rwu1cGf"
      }
    },
    {
      "cell_type": "markdown",
      "source": [
        "# Project Milestones\n",
        "\n",
        "1. Sensitivity, Speficity, Confidence Intervals\n",
        "2. Data Privacy (PCA, Encryption, Randomization)\n",
        "3. Paralleism (Can we get multiple GPUs to optimize batch processing for training?)\n",
        "4. UI (Design / Build)\n",
        "5. Porting / Linking"
      ],
      "metadata": {
        "id": "L1LTw5p52HQz"
      }
    },
    {
      "cell_type": "markdown",
      "source": [
        "# Proposed Model Plan\n",
        "1. EDA -> Image filtering. NLP for text (Topic retrieval / Categorical data)\n",
        "2. CNN -> Image classification\n",
        "3. Classifier / Other suitable Model -> Text\n",
        "4. Output -> 50 % from each model."
      ],
      "metadata": {
        "id": "76OlYoVr4bwO"
      }
    },
    {
      "cell_type": "code",
      "source": [],
      "metadata": {
        "id": "hsmpdGBD477r"
      },
      "execution_count": null,
      "outputs": []
    }
  ]
}
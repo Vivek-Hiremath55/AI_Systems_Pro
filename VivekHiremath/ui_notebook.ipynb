{
  "nbformat": 4,
  "nbformat_minor": 0,
  "metadata": {
    "colab": {
      "provenance": [],
      "authorship_tag": "ABX9TyMPQ8HL4A9FKw5elTc1sYF6",
      "include_colab_link": true
    },
    "kernelspec": {
      "name": "python3",
      "display_name": "Python 3"
    },
    "language_info": {
      "name": "python"
    }
  },
  "cells": [
    {
      "cell_type": "markdown",
      "metadata": {
        "id": "view-in-github",
        "colab_type": "text"
      },
      "source": [
        "<a href=\"https://colab.research.google.com/github/Vivek-Hiremath55/AI_Systems_Pro/blob/main/VivekHiremath/ui_notebook.ipynb\" target=\"_parent\"><img src=\"https://colab.research.google.com/assets/colab-badge.svg\" alt=\"Open In Colab\"/></a>"
      ]
    },
    {
      "cell_type": "code",
      "execution_count": null,
      "metadata": {
        "colab": {
          "base_uri": "https://localhost:8080/"
        },
        "id": "YV0JtmLeNkoL",
        "outputId": "1e2384ed-7c90-4905-cbf7-45bca9227735"
      },
      "outputs": [
        {
          "output_type": "stream",
          "name": "stdout",
          "text": [
            "Mounted at /content/drive\n"
          ]
        }
      ],
      "source": [
        "from google.colab import drive\n",
        "drive.mount('/content/drive')   # Mounting Google Drive"
      ]
    },
    {
      "cell_type": "markdown",
      "source": [
        "# Importing Libraries and Models"
      ],
      "metadata": {
        "id": "ULKKltZeOE6L"
      }
    },
    {
      "cell_type": "code",
      "source": [
        "import pandas as pd\n",
        "import joblib"
      ],
      "metadata": {
        "id": "zIjrPPxoODqb"
      },
      "execution_count": null,
      "outputs": []
    },
    {
      "cell_type": "code",
      "source": [
        "#Initializing Models (.pkl files)\n",
        "image_model = joblib.load(\"/content/drive/MyDrive/AIS_Pro_Data/image_classifier.pkl\")\n",
        "model = joblib.load(\"/content/drive/MyDrive/AIS_Pro_Data/best_rf_model_ADASYN.pkl\")\n",
        "comb_model = joblib.load(\"/content/drive/MyDrive/AIS_Pro_Data/combining_dt_model.pkl\")"
      ],
      "metadata": {
        "id": "mFSiLe0mOM9x"
      },
      "execution_count": null,
      "outputs": []
    },
    {
      "cell_type": "code",
      "source": [
        "#Importing data (Needed only to enter values in the UI)\n",
        "data = pd.read_csv(\"/content/drive/MyDrive/AIS_Pro_Data/train-metadata.csv\")"
      ],
      "metadata": {
        "colab": {
          "base_uri": "https://localhost:8080/"
        },
        "id": "fIYhEHz5O9wQ",
        "outputId": "72b2c367-5190-4efd-9ca1-bdbf890a6d45"
      },
      "execution_count": null,
      "outputs": [
        {
          "output_type": "stream",
          "name": "stderr",
          "text": [
            "<ipython-input-5-53ab5b0fbd06>:1: DtypeWarning: Columns (51,52) have mixed types. Specify dtype option on import or set low_memory=False.\n",
            "  data = pd.read_csv(\"/content/drive/MyDrive/AIS_Pro_Data/train-metadata.csv\")\n"
          ]
        }
      ]
    },
    {
      "cell_type": "code",
      "source": [
        "data.head(1)"
      ],
      "metadata": {
        "colab": {
          "base_uri": "https://localhost:8080/",
          "height": 147
        },
        "id": "HXLbz4ALci9p",
        "outputId": "d4a98f7b-d6a3-4a86-e83e-5dbb53eed242"
      },
      "execution_count": null,
      "outputs": [
        {
          "output_type": "execute_result",
          "data": {
            "text/plain": [
              "        isic_id  target  patient_id  age_approx   sex anatom_site_general  \\\n",
              "0  ISIC_0015670       0  IP_1235828        60.0  male     lower extremity   \n",
              "\n",
              "   clin_size_long_diam_mm          image_type tbp_tile_type   tbp_lv_A  ...  \\\n",
              "0                    3.04  TBP tile: close-up     3D: white  20.244422  ...   \n",
              "\n",
              "   lesion_id  iddx_full  iddx_1  iddx_2  iddx_3  iddx_4  iddx_5  \\\n",
              "0        NaN     Benign  Benign     NaN     NaN     NaN     NaN   \n",
              "\n",
              "   mel_mitotic_index  mel_thick_mm  tbp_lv_dnn_lesion_confidence  \n",
              "0                NaN           NaN                     97.517282  \n",
              "\n",
              "[1 rows x 55 columns]"
            ],
            "text/html": [
              "\n",
              "  <div id=\"df-68a25293-e69a-4774-aa4c-27edce5c8265\" class=\"colab-df-container\">\n",
              "    <div>\n",
              "<style scoped>\n",
              "    .dataframe tbody tr th:only-of-type {\n",
              "        vertical-align: middle;\n",
              "    }\n",
              "\n",
              "    .dataframe tbody tr th {\n",
              "        vertical-align: top;\n",
              "    }\n",
              "\n",
              "    .dataframe thead th {\n",
              "        text-align: right;\n",
              "    }\n",
              "</style>\n",
              "<table border=\"1\" class=\"dataframe\">\n",
              "  <thead>\n",
              "    <tr style=\"text-align: right;\">\n",
              "      <th></th>\n",
              "      <th>isic_id</th>\n",
              "      <th>target</th>\n",
              "      <th>patient_id</th>\n",
              "      <th>age_approx</th>\n",
              "      <th>sex</th>\n",
              "      <th>anatom_site_general</th>\n",
              "      <th>clin_size_long_diam_mm</th>\n",
              "      <th>image_type</th>\n",
              "      <th>tbp_tile_type</th>\n",
              "      <th>tbp_lv_A</th>\n",
              "      <th>...</th>\n",
              "      <th>lesion_id</th>\n",
              "      <th>iddx_full</th>\n",
              "      <th>iddx_1</th>\n",
              "      <th>iddx_2</th>\n",
              "      <th>iddx_3</th>\n",
              "      <th>iddx_4</th>\n",
              "      <th>iddx_5</th>\n",
              "      <th>mel_mitotic_index</th>\n",
              "      <th>mel_thick_mm</th>\n",
              "      <th>tbp_lv_dnn_lesion_confidence</th>\n",
              "    </tr>\n",
              "  </thead>\n",
              "  <tbody>\n",
              "    <tr>\n",
              "      <th>0</th>\n",
              "      <td>ISIC_0015670</td>\n",
              "      <td>0</td>\n",
              "      <td>IP_1235828</td>\n",
              "      <td>60.0</td>\n",
              "      <td>male</td>\n",
              "      <td>lower extremity</td>\n",
              "      <td>3.04</td>\n",
              "      <td>TBP tile: close-up</td>\n",
              "      <td>3D: white</td>\n",
              "      <td>20.244422</td>\n",
              "      <td>...</td>\n",
              "      <td>NaN</td>\n",
              "      <td>Benign</td>\n",
              "      <td>Benign</td>\n",
              "      <td>NaN</td>\n",
              "      <td>NaN</td>\n",
              "      <td>NaN</td>\n",
              "      <td>NaN</td>\n",
              "      <td>NaN</td>\n",
              "      <td>NaN</td>\n",
              "      <td>97.517282</td>\n",
              "    </tr>\n",
              "  </tbody>\n",
              "</table>\n",
              "<p>1 rows × 55 columns</p>\n",
              "</div>\n",
              "    <div class=\"colab-df-buttons\">\n",
              "\n",
              "  <div class=\"colab-df-container\">\n",
              "    <button class=\"colab-df-convert\" onclick=\"convertToInteractive('df-68a25293-e69a-4774-aa4c-27edce5c8265')\"\n",
              "            title=\"Convert this dataframe to an interactive table.\"\n",
              "            style=\"display:none;\">\n",
              "\n",
              "  <svg xmlns=\"http://www.w3.org/2000/svg\" height=\"24px\" viewBox=\"0 -960 960 960\">\n",
              "    <path d=\"M120-120v-720h720v720H120Zm60-500h600v-160H180v160Zm220 220h160v-160H400v160Zm0 220h160v-160H400v160ZM180-400h160v-160H180v160Zm440 0h160v-160H620v160ZM180-180h160v-160H180v160Zm440 0h160v-160H620v160Z\"/>\n",
              "  </svg>\n",
              "    </button>\n",
              "\n",
              "  <style>\n",
              "    .colab-df-container {\n",
              "      display:flex;\n",
              "      gap: 12px;\n",
              "    }\n",
              "\n",
              "    .colab-df-convert {\n",
              "      background-color: #E8F0FE;\n",
              "      border: none;\n",
              "      border-radius: 50%;\n",
              "      cursor: pointer;\n",
              "      display: none;\n",
              "      fill: #1967D2;\n",
              "      height: 32px;\n",
              "      padding: 0 0 0 0;\n",
              "      width: 32px;\n",
              "    }\n",
              "\n",
              "    .colab-df-convert:hover {\n",
              "      background-color: #E2EBFA;\n",
              "      box-shadow: 0px 1px 2px rgba(60, 64, 67, 0.3), 0px 1px 3px 1px rgba(60, 64, 67, 0.15);\n",
              "      fill: #174EA6;\n",
              "    }\n",
              "\n",
              "    .colab-df-buttons div {\n",
              "      margin-bottom: 4px;\n",
              "    }\n",
              "\n",
              "    [theme=dark] .colab-df-convert {\n",
              "      background-color: #3B4455;\n",
              "      fill: #D2E3FC;\n",
              "    }\n",
              "\n",
              "    [theme=dark] .colab-df-convert:hover {\n",
              "      background-color: #434B5C;\n",
              "      box-shadow: 0px 1px 3px 1px rgba(0, 0, 0, 0.15);\n",
              "      filter: drop-shadow(0px 1px 2px rgba(0, 0, 0, 0.3));\n",
              "      fill: #FFFFFF;\n",
              "    }\n",
              "  </style>\n",
              "\n",
              "    <script>\n",
              "      const buttonEl =\n",
              "        document.querySelector('#df-68a25293-e69a-4774-aa4c-27edce5c8265 button.colab-df-convert');\n",
              "      buttonEl.style.display =\n",
              "        google.colab.kernel.accessAllowed ? 'block' : 'none';\n",
              "\n",
              "      async function convertToInteractive(key) {\n",
              "        const element = document.querySelector('#df-68a25293-e69a-4774-aa4c-27edce5c8265');\n",
              "        const dataTable =\n",
              "          await google.colab.kernel.invokeFunction('convertToInteractive',\n",
              "                                                    [key], {});\n",
              "        if (!dataTable) return;\n",
              "\n",
              "        const docLinkHtml = 'Like what you see? Visit the ' +\n",
              "          '<a target=\"_blank\" href=https://colab.research.google.com/notebooks/data_table.ipynb>data table notebook</a>'\n",
              "          + ' to learn more about interactive tables.';\n",
              "        element.innerHTML = '';\n",
              "        dataTable['output_type'] = 'display_data';\n",
              "        await google.colab.output.renderOutput(dataTable, element);\n",
              "        const docLink = document.createElement('div');\n",
              "        docLink.innerHTML = docLinkHtml;\n",
              "        element.appendChild(docLink);\n",
              "      }\n",
              "    </script>\n",
              "  </div>\n",
              "\n",
              "\n",
              "    </div>\n",
              "  </div>\n"
            ],
            "application/vnd.google.colaboratory.intrinsic+json": {
              "type": "dataframe",
              "variable_name": "data"
            }
          },
          "metadata": {},
          "execution_count": 52
        }
      ]
    },
    {
      "cell_type": "code",
      "source": [
        "model.feature_names_in_ #Confirm the features that the model has been trained on"
      ],
      "metadata": {
        "colab": {
          "base_uri": "https://localhost:8080/"
        },
        "id": "liKl_rYkRy9o",
        "outputId": "a5741492-f1a7-44f0-8d09-b4576736a86c"
      },
      "execution_count": null,
      "outputs": [
        {
          "output_type": "execute_result",
          "data": {
            "text/plain": [
              "array(['age_approx', 'clin_size_long_diam_mm', 'tbp_lv_area_perim_ratio',\n",
              "       'tbp_lv_color_std_mean', 'tbp_lv_eccentricity', 'tbp_lv_x',\n",
              "       'tbp_lv_y', 'tbp_lv_z', 'sex_male', 'tbp_lv_location_Left Arm',\n",
              "       'tbp_lv_location_Left Arm - Lower',\n",
              "       'tbp_lv_location_Left Arm - Upper', 'tbp_lv_location_Left Leg',\n",
              "       'tbp_lv_location_Left Leg - Lower',\n",
              "       'tbp_lv_location_Left Leg - Upper', 'tbp_lv_location_Right Arm',\n",
              "       'tbp_lv_location_Right Arm - Lower',\n",
              "       'tbp_lv_location_Right Arm - Upper', 'tbp_lv_location_Right Leg',\n",
              "       'tbp_lv_location_Right Leg - Lower',\n",
              "       'tbp_lv_location_Right Leg - Upper', 'tbp_lv_location_Torso Back',\n",
              "       'tbp_lv_location_Torso Back Bottom Third',\n",
              "       'tbp_lv_location_Torso Back Middle Third',\n",
              "       'tbp_lv_location_Torso Back Top Third',\n",
              "       'tbp_lv_location_Torso Front',\n",
              "       'tbp_lv_location_Torso Front Bottom Half',\n",
              "       'tbp_lv_location_Torso Front Top Half'], dtype=object)"
            ]
          },
          "metadata": {},
          "execution_count": 19
        }
      ]
    },
    {
      "cell_type": "code",
      "source": [
        "data_mod = data[['age_approx', 'clin_size_long_diam_mm', 'tbp_lv_area_perim_ratio',\n",
        "       'tbp_lv_color_std_mean', 'tbp_lv_eccentricity', 'tbp_lv_x',\n",
        "       'tbp_lv_y', 'tbp_lv_z', 'sex', 'tbp_lv_location', 'target']]"
      ],
      "metadata": {
        "id": "GMYXcNkXfLo2"
      },
      "execution_count": null,
      "outputs": []
    },
    {
      "cell_type": "code",
      "source": [
        "# Need to run for every new session in Google Colab\n",
        "#!pip install gradio\n"
      ],
      "metadata": {
        "colab": {
          "base_uri": "https://localhost:8080/"
        },
        "collapsed": true,
        "id": "Od_tV_PlS3Sl",
        "outputId": "7b2f7491-8816-4433-ef6a-56ec97056c8c"
      },
      "execution_count": null,
      "outputs": [
        {
          "output_type": "stream",
          "name": "stdout",
          "text": [
            "Collecting gradio\n",
            "  Downloading gradio-5.5.0-py3-none-any.whl.metadata (16 kB)\n",
            "Collecting aiofiles<24.0,>=22.0 (from gradio)\n",
            "  Downloading aiofiles-23.2.1-py3-none-any.whl.metadata (9.7 kB)\n",
            "Requirement already satisfied: anyio<5.0,>=3.0 in /usr/local/lib/python3.10/dist-packages (from gradio) (3.7.1)\n",
            "Collecting fastapi<1.0,>=0.115.2 (from gradio)\n",
            "  Downloading fastapi-0.115.5-py3-none-any.whl.metadata (27 kB)\n",
            "Collecting ffmpy (from gradio)\n",
            "  Downloading ffmpy-0.4.0-py3-none-any.whl.metadata (2.9 kB)\n",
            "Collecting gradio-client==1.4.2 (from gradio)\n",
            "  Downloading gradio_client-1.4.2-py3-none-any.whl.metadata (7.1 kB)\n",
            "Requirement already satisfied: httpx>=0.24.1 in /usr/local/lib/python3.10/dist-packages (from gradio) (0.27.2)\n",
            "Requirement already satisfied: huggingface-hub>=0.25.1 in /usr/local/lib/python3.10/dist-packages (from gradio) (0.26.2)\n",
            "Requirement already satisfied: jinja2<4.0 in /usr/local/lib/python3.10/dist-packages (from gradio) (3.1.4)\n",
            "Collecting markupsafe~=2.0 (from gradio)\n",
            "  Downloading MarkupSafe-2.1.5-cp310-cp310-manylinux_2_17_x86_64.manylinux2014_x86_64.whl.metadata (3.0 kB)\n",
            "Requirement already satisfied: numpy<3.0,>=1.0 in /usr/local/lib/python3.10/dist-packages (from gradio) (1.26.4)\n",
            "Requirement already satisfied: orjson~=3.0 in /usr/local/lib/python3.10/dist-packages (from gradio) (3.10.11)\n",
            "Requirement already satisfied: packaging in /usr/local/lib/python3.10/dist-packages (from gradio) (24.2)\n",
            "Requirement already satisfied: pandas<3.0,>=1.0 in /usr/local/lib/python3.10/dist-packages (from gradio) (2.2.2)\n",
            "Requirement already satisfied: pillow<12.0,>=8.0 in /usr/local/lib/python3.10/dist-packages (from gradio) (11.0.0)\n",
            "Requirement already satisfied: pydantic>=2.0 in /usr/local/lib/python3.10/dist-packages (from gradio) (2.9.2)\n",
            "Collecting pydub (from gradio)\n",
            "  Downloading pydub-0.25.1-py2.py3-none-any.whl.metadata (1.4 kB)\n",
            "Collecting python-multipart==0.0.12 (from gradio)\n",
            "  Downloading python_multipart-0.0.12-py3-none-any.whl.metadata (1.9 kB)\n",
            "Requirement already satisfied: pyyaml<7.0,>=5.0 in /usr/local/lib/python3.10/dist-packages (from gradio) (6.0.2)\n",
            "Collecting ruff>=0.2.2 (from gradio)\n",
            "  Downloading ruff-0.7.3-py3-none-manylinux_2_17_x86_64.manylinux2014_x86_64.whl.metadata (25 kB)\n",
            "Collecting safehttpx<1.0,>=0.1.1 (from gradio)\n",
            "  Downloading safehttpx-0.1.1-py3-none-any.whl.metadata (4.1 kB)\n",
            "Collecting semantic-version~=2.0 (from gradio)\n",
            "  Downloading semantic_version-2.10.0-py2.py3-none-any.whl.metadata (9.7 kB)\n",
            "Collecting starlette<1.0,>=0.40.0 (from gradio)\n",
            "  Downloading starlette-0.41.2-py3-none-any.whl.metadata (6.0 kB)\n",
            "Collecting tomlkit==0.12.0 (from gradio)\n",
            "  Downloading tomlkit-0.12.0-py3-none-any.whl.metadata (2.7 kB)\n",
            "Requirement already satisfied: typer<1.0,>=0.12 in /usr/local/lib/python3.10/dist-packages (from gradio) (0.13.0)\n",
            "Requirement already satisfied: typing-extensions~=4.0 in /usr/local/lib/python3.10/dist-packages (from gradio) (4.12.2)\n",
            "Collecting uvicorn>=0.14.0 (from gradio)\n",
            "  Downloading uvicorn-0.32.0-py3-none-any.whl.metadata (6.6 kB)\n",
            "Requirement already satisfied: fsspec in /usr/local/lib/python3.10/dist-packages (from gradio-client==1.4.2->gradio) (2024.10.0)\n",
            "Collecting websockets<13.0,>=10.0 (from gradio-client==1.4.2->gradio)\n",
            "  Downloading websockets-12.0-cp310-cp310-manylinux_2_5_x86_64.manylinux1_x86_64.manylinux_2_17_x86_64.manylinux2014_x86_64.whl.metadata (6.6 kB)\n",
            "Requirement already satisfied: idna>=2.8 in /usr/local/lib/python3.10/dist-packages (from anyio<5.0,>=3.0->gradio) (3.10)\n",
            "Requirement already satisfied: sniffio>=1.1 in /usr/local/lib/python3.10/dist-packages (from anyio<5.0,>=3.0->gradio) (1.3.1)\n",
            "Requirement already satisfied: exceptiongroup in /usr/local/lib/python3.10/dist-packages (from anyio<5.0,>=3.0->gradio) (1.2.2)\n",
            "Requirement already satisfied: certifi in /usr/local/lib/python3.10/dist-packages (from httpx>=0.24.1->gradio) (2024.8.30)\n",
            "Requirement already satisfied: httpcore==1.* in /usr/local/lib/python3.10/dist-packages (from httpx>=0.24.1->gradio) (1.0.6)\n",
            "Requirement already satisfied: h11<0.15,>=0.13 in /usr/local/lib/python3.10/dist-packages (from httpcore==1.*->httpx>=0.24.1->gradio) (0.14.0)\n",
            "Requirement already satisfied: filelock in /usr/local/lib/python3.10/dist-packages (from huggingface-hub>=0.25.1->gradio) (3.16.1)\n",
            "Requirement already satisfied: requests in /usr/local/lib/python3.10/dist-packages (from huggingface-hub>=0.25.1->gradio) (2.32.3)\n",
            "Requirement already satisfied: tqdm>=4.42.1 in /usr/local/lib/python3.10/dist-packages (from huggingface-hub>=0.25.1->gradio) (4.66.6)\n",
            "Requirement already satisfied: python-dateutil>=2.8.2 in /usr/local/lib/python3.10/dist-packages (from pandas<3.0,>=1.0->gradio) (2.8.2)\n",
            "Requirement already satisfied: pytz>=2020.1 in /usr/local/lib/python3.10/dist-packages (from pandas<3.0,>=1.0->gradio) (2024.2)\n",
            "Requirement already satisfied: tzdata>=2022.7 in /usr/local/lib/python3.10/dist-packages (from pandas<3.0,>=1.0->gradio) (2024.2)\n",
            "Requirement already satisfied: annotated-types>=0.6.0 in /usr/local/lib/python3.10/dist-packages (from pydantic>=2.0->gradio) (0.7.0)\n",
            "Requirement already satisfied: pydantic-core==2.23.4 in /usr/local/lib/python3.10/dist-packages (from pydantic>=2.0->gradio) (2.23.4)\n",
            "Requirement already satisfied: click>=8.0.0 in /usr/local/lib/python3.10/dist-packages (from typer<1.0,>=0.12->gradio) (8.1.7)\n",
            "Requirement already satisfied: shellingham>=1.3.0 in /usr/local/lib/python3.10/dist-packages (from typer<1.0,>=0.12->gradio) (1.5.4)\n",
            "Requirement already satisfied: rich>=10.11.0 in /usr/local/lib/python3.10/dist-packages (from typer<1.0,>=0.12->gradio) (13.9.4)\n",
            "Requirement already satisfied: six>=1.5 in /usr/local/lib/python3.10/dist-packages (from python-dateutil>=2.8.2->pandas<3.0,>=1.0->gradio) (1.16.0)\n",
            "Requirement already satisfied: markdown-it-py>=2.2.0 in /usr/local/lib/python3.10/dist-packages (from rich>=10.11.0->typer<1.0,>=0.12->gradio) (3.0.0)\n",
            "Requirement already satisfied: pygments<3.0.0,>=2.13.0 in /usr/local/lib/python3.10/dist-packages (from rich>=10.11.0->typer<1.0,>=0.12->gradio) (2.18.0)\n",
            "Requirement already satisfied: charset-normalizer<4,>=2 in /usr/local/lib/python3.10/dist-packages (from requests->huggingface-hub>=0.25.1->gradio) (3.4.0)\n",
            "Requirement already satisfied: urllib3<3,>=1.21.1 in /usr/local/lib/python3.10/dist-packages (from requests->huggingface-hub>=0.25.1->gradio) (2.2.3)\n",
            "Requirement already satisfied: mdurl~=0.1 in /usr/local/lib/python3.10/dist-packages (from markdown-it-py>=2.2.0->rich>=10.11.0->typer<1.0,>=0.12->gradio) (0.1.2)\n",
            "Downloading gradio-5.5.0-py3-none-any.whl (56.7 MB)\n",
            "\u001b[2K   \u001b[90m━━━━━━━━━━━━━━━━━━━━━━━━━━━━━━━━━━━━━━━━\u001b[0m \u001b[32m56.7/56.7 MB\u001b[0m \u001b[31m11.0 MB/s\u001b[0m eta \u001b[36m0:00:00\u001b[0m\n",
            "\u001b[?25hDownloading gradio_client-1.4.2-py3-none-any.whl (319 kB)\n",
            "\u001b[2K   \u001b[90m━━━━━━━━━━━━━━━━━━━━━━━━━━━━━━━━━━━━━━━━\u001b[0m \u001b[32m319.8/319.8 kB\u001b[0m \u001b[31m22.4 MB/s\u001b[0m eta \u001b[36m0:00:00\u001b[0m\n",
            "\u001b[?25hDownloading python_multipart-0.0.12-py3-none-any.whl (23 kB)\n",
            "Downloading tomlkit-0.12.0-py3-none-any.whl (37 kB)\n",
            "Downloading aiofiles-23.2.1-py3-none-any.whl (15 kB)\n",
            "Downloading fastapi-0.115.5-py3-none-any.whl (94 kB)\n",
            "\u001b[2K   \u001b[90m━━━━━━━━━━━━━━━━━━━━━━━━━━━━━━━━━━━━━━━━\u001b[0m \u001b[32m94.9/94.9 kB\u001b[0m \u001b[31m7.9 MB/s\u001b[0m eta \u001b[36m0:00:00\u001b[0m\n",
            "\u001b[?25hDownloading MarkupSafe-2.1.5-cp310-cp310-manylinux_2_17_x86_64.manylinux2014_x86_64.whl (25 kB)\n",
            "Downloading ruff-0.7.3-py3-none-manylinux_2_17_x86_64.manylinux2014_x86_64.whl (11.0 MB)\n",
            "\u001b[2K   \u001b[90m━━━━━━━━━━━━━━━━━━━━━━━━━━━━━━━━━━━━━━━━\u001b[0m \u001b[32m11.0/11.0 MB\u001b[0m \u001b[31m78.1 MB/s\u001b[0m eta \u001b[36m0:00:00\u001b[0m\n",
            "\u001b[?25hDownloading safehttpx-0.1.1-py3-none-any.whl (8.4 kB)\n",
            "Downloading semantic_version-2.10.0-py2.py3-none-any.whl (15 kB)\n",
            "Downloading starlette-0.41.2-py3-none-any.whl (73 kB)\n",
            "\u001b[2K   \u001b[90m━━━━━━━━━━━━━━━━━━━━━━━━━━━━━━━━━━━━━━━━\u001b[0m \u001b[32m73.3/73.3 kB\u001b[0m \u001b[31m5.8 MB/s\u001b[0m eta \u001b[36m0:00:00\u001b[0m\n",
            "\u001b[?25hDownloading uvicorn-0.32.0-py3-none-any.whl (63 kB)\n",
            "\u001b[2K   \u001b[90m━━━━━━━━━━━━━━━━━━━━━━━━━━━━━━━━━━━━━━━━\u001b[0m \u001b[32m63.7/63.7 kB\u001b[0m \u001b[31m4.9 MB/s\u001b[0m eta \u001b[36m0:00:00\u001b[0m\n",
            "\u001b[?25hDownloading ffmpy-0.4.0-py3-none-any.whl (5.8 kB)\n",
            "Downloading pydub-0.25.1-py2.py3-none-any.whl (32 kB)\n",
            "Downloading websockets-12.0-cp310-cp310-manylinux_2_5_x86_64.manylinux1_x86_64.manylinux_2_17_x86_64.manylinux2014_x86_64.whl (130 kB)\n",
            "\u001b[2K   \u001b[90m━━━━━━━━━━━━━━━━━━━━━━━━━━━━━━━━━━━━━━━━\u001b[0m \u001b[32m130.2/130.2 kB\u001b[0m \u001b[31m10.2 MB/s\u001b[0m eta \u001b[36m0:00:00\u001b[0m\n",
            "\u001b[?25hInstalling collected packages: pydub, websockets, uvicorn, tomlkit, semantic-version, ruff, python-multipart, markupsafe, ffmpy, aiofiles, starlette, safehttpx, gradio-client, fastapi, gradio\n",
            "  Attempting uninstall: markupsafe\n",
            "    Found existing installation: MarkupSafe 3.0.2\n",
            "    Uninstalling MarkupSafe-3.0.2:\n",
            "      Successfully uninstalled MarkupSafe-3.0.2\n",
            "Successfully installed aiofiles-23.2.1 fastapi-0.115.5 ffmpy-0.4.0 gradio-5.5.0 gradio-client-1.4.2 markupsafe-2.1.5 pydub-0.25.1 python-multipart-0.0.12 ruff-0.7.3 safehttpx-0.1.1 semantic-version-2.10.0 starlette-0.41.2 tomlkit-0.12.0 uvicorn-0.32.0 websockets-12.0\n"
          ]
        }
      ]
    },
    {
      "cell_type": "markdown",
      "source": [
        "# Function for feature based model"
      ],
      "metadata": {
        "id": "NT-eTDJOfiRA"
      }
    },
    {
      "cell_type": "code",
      "source": [
        "data_mod.head(1)"
      ],
      "metadata": {
        "colab": {
          "base_uri": "https://localhost:8080/",
          "height": 101
        },
        "id": "GfvVeu7BgeeJ",
        "outputId": "256d75d7-af5e-4412-a179-12918f75b0f4"
      },
      "execution_count": null,
      "outputs": [
        {
          "output_type": "execute_result",
          "data": {
            "text/plain": [
              "   age_approx  clin_size_long_diam_mm  tbp_lv_area_perim_ratio  \\\n",
              "0        60.0                    3.04                 27.47617   \n",
              "\n",
              "   tbp_lv_color_std_mean  tbp_lv_eccentricity    tbp_lv_x    tbp_lv_y  \\\n",
              "0                    0.0             0.901302 -182.703552  613.493652   \n",
              "\n",
              "    tbp_lv_z   sex    tbp_lv_location  target  \n",
              "0 -42.427948  male  Right Leg - Upper       0  "
            ],
            "text/html": [
              "\n",
              "  <div id=\"df-114e52bd-6d95-4bae-a756-aeb1e64d2239\" class=\"colab-df-container\">\n",
              "    <div>\n",
              "<style scoped>\n",
              "    .dataframe tbody tr th:only-of-type {\n",
              "        vertical-align: middle;\n",
              "    }\n",
              "\n",
              "    .dataframe tbody tr th {\n",
              "        vertical-align: top;\n",
              "    }\n",
              "\n",
              "    .dataframe thead th {\n",
              "        text-align: right;\n",
              "    }\n",
              "</style>\n",
              "<table border=\"1\" class=\"dataframe\">\n",
              "  <thead>\n",
              "    <tr style=\"text-align: right;\">\n",
              "      <th></th>\n",
              "      <th>age_approx</th>\n",
              "      <th>clin_size_long_diam_mm</th>\n",
              "      <th>tbp_lv_area_perim_ratio</th>\n",
              "      <th>tbp_lv_color_std_mean</th>\n",
              "      <th>tbp_lv_eccentricity</th>\n",
              "      <th>tbp_lv_x</th>\n",
              "      <th>tbp_lv_y</th>\n",
              "      <th>tbp_lv_z</th>\n",
              "      <th>sex</th>\n",
              "      <th>tbp_lv_location</th>\n",
              "      <th>target</th>\n",
              "    </tr>\n",
              "  </thead>\n",
              "  <tbody>\n",
              "    <tr>\n",
              "      <th>0</th>\n",
              "      <td>60.0</td>\n",
              "      <td>3.04</td>\n",
              "      <td>27.47617</td>\n",
              "      <td>0.0</td>\n",
              "      <td>0.901302</td>\n",
              "      <td>-182.703552</td>\n",
              "      <td>613.493652</td>\n",
              "      <td>-42.427948</td>\n",
              "      <td>male</td>\n",
              "      <td>Right Leg - Upper</td>\n",
              "      <td>0</td>\n",
              "    </tr>\n",
              "  </tbody>\n",
              "</table>\n",
              "</div>\n",
              "    <div class=\"colab-df-buttons\">\n",
              "\n",
              "  <div class=\"colab-df-container\">\n",
              "    <button class=\"colab-df-convert\" onclick=\"convertToInteractive('df-114e52bd-6d95-4bae-a756-aeb1e64d2239')\"\n",
              "            title=\"Convert this dataframe to an interactive table.\"\n",
              "            style=\"display:none;\">\n",
              "\n",
              "  <svg xmlns=\"http://www.w3.org/2000/svg\" height=\"24px\" viewBox=\"0 -960 960 960\">\n",
              "    <path d=\"M120-120v-720h720v720H120Zm60-500h600v-160H180v160Zm220 220h160v-160H400v160Zm0 220h160v-160H400v160ZM180-400h160v-160H180v160Zm440 0h160v-160H620v160ZM180-180h160v-160H180v160Zm440 0h160v-160H620v160Z\"/>\n",
              "  </svg>\n",
              "    </button>\n",
              "\n",
              "  <style>\n",
              "    .colab-df-container {\n",
              "      display:flex;\n",
              "      gap: 12px;\n",
              "    }\n",
              "\n",
              "    .colab-df-convert {\n",
              "      background-color: #E8F0FE;\n",
              "      border: none;\n",
              "      border-radius: 50%;\n",
              "      cursor: pointer;\n",
              "      display: none;\n",
              "      fill: #1967D2;\n",
              "      height: 32px;\n",
              "      padding: 0 0 0 0;\n",
              "      width: 32px;\n",
              "    }\n",
              "\n",
              "    .colab-df-convert:hover {\n",
              "      background-color: #E2EBFA;\n",
              "      box-shadow: 0px 1px 2px rgba(60, 64, 67, 0.3), 0px 1px 3px 1px rgba(60, 64, 67, 0.15);\n",
              "      fill: #174EA6;\n",
              "    }\n",
              "\n",
              "    .colab-df-buttons div {\n",
              "      margin-bottom: 4px;\n",
              "    }\n",
              "\n",
              "    [theme=dark] .colab-df-convert {\n",
              "      background-color: #3B4455;\n",
              "      fill: #D2E3FC;\n",
              "    }\n",
              "\n",
              "    [theme=dark] .colab-df-convert:hover {\n",
              "      background-color: #434B5C;\n",
              "      box-shadow: 0px 1px 3px 1px rgba(0, 0, 0, 0.15);\n",
              "      filter: drop-shadow(0px 1px 2px rgba(0, 0, 0, 0.3));\n",
              "      fill: #FFFFFF;\n",
              "    }\n",
              "  </style>\n",
              "\n",
              "    <script>\n",
              "      const buttonEl =\n",
              "        document.querySelector('#df-114e52bd-6d95-4bae-a756-aeb1e64d2239 button.colab-df-convert');\n",
              "      buttonEl.style.display =\n",
              "        google.colab.kernel.accessAllowed ? 'block' : 'none';\n",
              "\n",
              "      async function convertToInteractive(key) {\n",
              "        const element = document.querySelector('#df-114e52bd-6d95-4bae-a756-aeb1e64d2239');\n",
              "        const dataTable =\n",
              "          await google.colab.kernel.invokeFunction('convertToInteractive',\n",
              "                                                    [key], {});\n",
              "        if (!dataTable) return;\n",
              "\n",
              "        const docLinkHtml = 'Like what you see? Visit the ' +\n",
              "          '<a target=\"_blank\" href=https://colab.research.google.com/notebooks/data_table.ipynb>data table notebook</a>'\n",
              "          + ' to learn more about interactive tables.';\n",
              "        element.innerHTML = '';\n",
              "        dataTable['output_type'] = 'display_data';\n",
              "        await google.colab.output.renderOutput(dataTable, element);\n",
              "        const docLink = document.createElement('div');\n",
              "        docLink.innerHTML = docLinkHtml;\n",
              "        element.appendChild(docLink);\n",
              "      }\n",
              "    </script>\n",
              "  </div>\n",
              "\n",
              "\n",
              "    </div>\n",
              "  </div>\n"
            ],
            "application/vnd.google.colaboratory.intrinsic+json": {
              "type": "dataframe",
              "variable_name": "data_mod"
            }
          },
          "metadata": {},
          "execution_count": 62
        }
      ]
    },
    {
      "cell_type": "markdown",
      "source": [
        "# Function for Image Based Model"
      ],
      "metadata": {
        "id": "0-GCa_dvhb2A"
      }
    },
    {
      "cell_type": "code",
      "source": [
        "\n",
        "# Load the image into a variable\n",
        "#image_path = '/content/ISIC_0015670.jpg'  # replace with your image path\n",
        "#image = Image.open(image_path)"
      ],
      "metadata": {
        "id": "ScOtmZ8Horr3"
      },
      "execution_count": null,
      "outputs": []
    },
    {
      "cell_type": "code",
      "source": [
        "import gradio as gr\n",
        "import torch\n",
        "import numpy as np\n",
        "from torchvision import transforms\n",
        "from PIL import Image\n",
        "import joblib\n",
        "\n",
        "# Loading Model\n",
        "image_model.eval()\n",
        "\n",
        "# Building transformer for the input image\n",
        "transform = transforms.Compose([\n",
        "    transforms.Resize((224, 224)),\n",
        "    transforms.ToTensor(),\n",
        "    transforms.Normalize(mean=[0.485, 0.456, 0.406], std=[0.229, 0.224, 0.225])\n",
        "])\n",
        "\n",
        "# Image prediction function\n",
        "def predict_image(image):\n",
        "    try:\n",
        "        image = Image.fromarray(image.astype('uint8'), 'RGB') if isinstance(image, np.ndarray) else image #Converting input image to desired format\n",
        "        transformed_image = transform(image).unsqueeze(0)  #Using transoformer to modify the image as per requirements\n",
        "\n",
        "        device = torch.device(\"cuda\" if torch.cuda.is_available() else \"cpu\") #To use gpu (Not mandatory as we are processing only 1 image at a time, but would be needed in actual system)\n",
        "        image_model.to(device)\n",
        "        transformed_image = transformed_image.to(device)\n",
        "\n",
        "        with torch.no_grad():\n",
        "            output = image_model(transformed_image)\n",
        "            probabilities = torch.softmax(output, dim=1)\n",
        "            class_1_prob = probabilities[0][1].item()  # Probability for class 1 / malignant Class\n",
        "\n",
        "        return class_1_prob\n",
        "\n",
        "    except Exception as e:\n",
        "        return f\"Error: {str(e)}\""
      ],
      "metadata": {
        "id": "PLg3MmGvsdhM"
      },
      "execution_count": null,
      "outputs": []
    },
    {
      "cell_type": "code",
      "source": [
        "#predict_image(image)"
      ],
      "metadata": {
        "colab": {
          "base_uri": "https://localhost:8080/"
        },
        "id": "lHpmElKuouiO",
        "outputId": "2ee74c44-ee18-4062-b734-7a5a17693fa3"
      },
      "execution_count": null,
      "outputs": [
        {
          "output_type": "execute_result",
          "data": {
            "text/plain": [
              "{'Positive Class Probability': 0.01381006, 'Predicted Class': 0}"
            ]
          },
          "metadata": {},
          "execution_count": 73
        }
      ]
    },
    {
      "cell_type": "code",
      "source": [
        "# Feature prediction function\n",
        "#def predict_from_features(age, clin_size, area_perim_ratio, color_std_mean, eccentricity, x, y, z, sex, location):\n",
        "#    features = np.array([[age, clin_size, area_perim_ratio, color_std_mean, eccentricity, x, y, z, sex == \"Male\", location]])\n",
        "#    feature_prob = model.predict_proba(features)[0][1]  # Probability for class 1\n",
        "#    return feature_prob"
      ],
      "metadata": {
        "id": "_cChQGlHshAN"
      },
      "execution_count": null,
      "outputs": []
    },
    {
      "cell_type": "code",
      "source": [
        "def predict_from_features(age, clin_size, area_perim_ratio, color_std_mean, eccentricity, x, y, z, sex, location):\n",
        "    sex_encoded = 1 if sex == \"Male\" else 0\n",
        "\n",
        "    location_categories = [                                                     #Dummy variables coding\n",
        "        'Left Arm', 'Left Arm - Lower', 'Left Arm - Upper', 'Left Leg',\n",
        "        'Left Leg - Lower', 'Left Leg - Upper', 'Right Arm',\n",
        "        'Right Arm - Lower', 'Right Arm - Upper', 'Right Leg',\n",
        "        'Right Leg - Lower', 'Right Leg - Upper', 'Torso Back',\n",
        "        'Torso Back Bottom Third', 'Torso Back Middle Third',\n",
        "        'Torso Back Top Third', 'Torso Front', 'Torso Front Bottom Half',\n",
        "        'Torso Front Top Half'\n",
        "    ]\n",
        "    location_encoded = [1 if loc == location else 0 for loc in location_categories]\n",
        "\n",
        "    # Combine all features into a single input array\n",
        "    features = [age, clin_size, area_perim_ratio, color_std_mean, eccentricity, x, y, z, sex_encoded] + location_encoded\n",
        "\n",
        "    # Convert to numpy array and predict probability for class 1\n",
        "    features = np.array([features])\n",
        "    feature_prob = model.predict_proba(features)[0][1]  #Predicting probability of class 1\n",
        "\n",
        "    return feature_prob\n"
      ],
      "metadata": {
        "id": "LefiS7VkttFE"
      },
      "execution_count": null,
      "outputs": []
    },
    {
      "cell_type": "code",
      "source": [
        "# Ensemble prediction function\n",
        "def ensemble_predict(image, age, clin_size, area_perim_ratio, color_std_mean, eccentricity, x, y, z, sex, location):\n",
        "\n",
        "    image_prob = predict_image(image)\n",
        "    feature_prob = predict_from_features(age, clin_size, area_perim_ratio, color_std_mean, eccentricity, x, y, z, sex, location)\n",
        "\n",
        "    # Use ensemble model to combine the outputs of both the previous models\n",
        "    final_input = np.array([[feature_prob, image_prob]])  # Reshape for model input\n",
        "    final_prediction = comb_model.predict(final_input)[0]\n",
        "\n",
        "    return f\"Final Prediction: {final_prediction}\""
      ],
      "metadata": {
        "id": "vsGjytyHsjdJ"
      },
      "execution_count": null,
      "outputs": []
    },
    {
      "cell_type": "code",
      "source": [
        "feat_pred = predict_from_features(60, 3.04, 27.47, 0, 0.9, -182.70, 613.49, -42.42, \"Male\", 'Left Arm')"
      ],
      "metadata": {
        "colab": {
          "base_uri": "https://localhost:8080/"
        },
        "id": "NDiqzZtHslb0",
        "outputId": "56b49ca2-77c8-49bc-81b6-8401542e3c3d"
      },
      "execution_count": null,
      "outputs": [
        {
          "output_type": "stream",
          "name": "stderr",
          "text": [
            "/usr/local/lib/python3.10/dist-packages/sklearn/base.py:493: UserWarning: X does not have valid feature names, but RandomForestClassifier was fitted with feature names\n",
            "  warnings.warn(\n"
          ]
        }
      ]
    },
    {
      "cell_type": "code",
      "source": [
        "#image_pred = predict_image(image)"
      ],
      "metadata": {
        "id": "NeeISpWUt-Kd"
      },
      "execution_count": null,
      "outputs": []
    },
    {
      "cell_type": "code",
      "source": [
        "#ensemble_predict(image, 60, 3.04, 27.47, 0, 0.9, -182.70, 613.49, -42.42, \"Male\", 'Left Arm')"
      ],
      "metadata": {
        "colab": {
          "base_uri": "https://localhost:8080/",
          "height": 130
        },
        "id": "osKhq9cfuAhL",
        "outputId": "300948c5-8535-4501-bd7f-efde19c9436a"
      },
      "execution_count": null,
      "outputs": [
        {
          "output_type": "stream",
          "name": "stderr",
          "text": [
            "/usr/local/lib/python3.10/dist-packages/sklearn/base.py:493: UserWarning: X does not have valid feature names, but RandomForestClassifier was fitted with feature names\n",
            "  warnings.warn(\n",
            "/usr/local/lib/python3.10/dist-packages/sklearn/base.py:493: UserWarning: X does not have valid feature names, but DecisionTreeClassifier was fitted with feature names\n",
            "  warnings.warn(\n"
          ]
        },
        {
          "output_type": "execute_result",
          "data": {
            "text/plain": [
              "'Final Prediction: 0'"
            ],
            "application/vnd.google.colaboratory.intrinsic+json": {
              "type": "string"
            }
          },
          "metadata": {},
          "execution_count": 93
        }
      ]
    },
    {
      "cell_type": "code",
      "source": [
        "\n",
        "#Gradio Setup\n",
        "\n",
        "age_approx_slider = gr.Slider(minimum=0, maximum=100, value=60, step=1, label=\"Approximate Age\")\n",
        "clin_size_slider = gr.Slider(minimum=1, maximum=30, value=3.04, step=0.1, label=\"Clinical Size Long Diameter (mm)\")\n",
        "area_perim_ratio_slider = gr.Slider(minimum=10, maximum=90, value=27.47, step=0.1, label=\"Area-Perimeter Ratio\")\n",
        "color_std_mean_slider = gr.Slider(minimum=0, maximum=10, value=0, step=0.1, label=\"Color Standard Mean\")\n",
        "eccentricity_slider = gr.Slider(minimum=0, maximum=1, value=0.9, step=0.01, label=\"Eccentricity\")\n",
        "x_slider = gr.Slider(minimum=-630, maximum=620, value=-182.70, step=0.1, label=\"X Coordinate\")\n",
        "y_slider = gr.Slider(minimum=-1100, maximum=1900, value=613.49, step=0.1, label=\"Y Coordinate\")\n",
        "z_slider = gr.Slider(minimum=-300, maximum=320, value=-42.42, step=0.1, label=\"Z Coordinate\")\n",
        "sex_dropdown = gr.Dropdown(choices=[\"Male\", \"Female\"], label=\"Sex\")\n",
        "location_dropdown = gr.Dropdown(choices=[\n",
        "    'Left Arm', 'Left Arm - Lower', 'Left Arm - Upper', 'Left Leg',\n",
        "    'Left Leg - Lower', 'Left Leg - Upper', 'Right Arm',\n",
        "    'Right Arm - Lower', 'Right Arm - Upper', 'Right Leg',\n",
        "    'Right Leg - Lower', 'Right Leg - Upper', 'Torso Back',\n",
        "    'Torso Back Bottom Third', 'Torso Back Middle Third',\n",
        "    'Torso Back Top Third', 'Torso Front', 'Torso Front Bottom Half',\n",
        "    'Torso Front Top Half'\n",
        "], label=\"Location\")\n",
        "\n",
        "# Gradio interface for combined model (Ensemble Model)\n",
        "combined_interface = gr.Interface(\n",
        "    fn=ensemble_predict,\n",
        "    inputs=[\n",
        "        gr.Image(type=\"pil\", label=\"Upload Image\"),\n",
        "        age_approx_slider, clin_size_slider, area_perim_ratio_slider, color_std_mean_slider,\n",
        "        eccentricity_slider, x_slider, y_slider, z_slider, sex_dropdown, location_dropdown\n",
        "    ],\n",
        "    outputs=\"text\",\n",
        "    title=\"Combined Model Prediction\",\n",
        "    description=\"Upload an image and input features to get a final class prediction.\"\n",
        ")\n",
        "\n",
        "# Launch Gradio\n",
        "combined_interface.launch()\n"
      ],
      "metadata": {
        "colab": {
          "base_uri": "https://localhost:8080/",
          "height": 653
        },
        "id": "XkhAzvlVpetF",
        "outputId": "354598d7-93db-4fb1-ac73-77780b4b6017"
      },
      "execution_count": null,
      "outputs": [
        {
          "output_type": "stream",
          "name": "stdout",
          "text": [
            "Running Gradio in a Colab notebook requires sharing enabled. Automatically setting `share=True` (you can turn this off by setting `share=False` in `launch()` explicitly).\n",
            "\n",
            "Colab notebook detected. To show errors in colab notebook, set debug=True in launch()\n",
            "* Running on public URL: https://6c7718c3e64640c6e6.gradio.live\n",
            "\n",
            "This share link expires in 72 hours. For free permanent hosting and GPU upgrades, run `gradio deploy` from the terminal in the working directory to deploy to Hugging Face Spaces (https://huggingface.co/spaces)\n"
          ]
        },
        {
          "output_type": "display_data",
          "data": {
            "text/plain": [
              "<IPython.core.display.HTML object>"
            ],
            "text/html": [
              "<div><iframe src=\"https://6c7718c3e64640c6e6.gradio.live\" width=\"100%\" height=\"500\" allow=\"autoplay; camera; microphone; clipboard-read; clipboard-write;\" frameborder=\"0\" allowfullscreen></iframe></div>"
            ]
          },
          "metadata": {}
        },
        {
          "output_type": "execute_result",
          "data": {
            "text/plain": []
          },
          "metadata": {},
          "execution_count": 90
        }
      ]
    },
    {
      "cell_type": "code",
      "source": [
        "data[data['target'] == 1].head(1)"
      ],
      "metadata": {
        "colab": {
          "base_uri": "https://localhost:8080/",
          "height": 182
        },
        "id": "fh4hdOfYrr98",
        "outputId": "41bbf3c7-5f3c-45d4-df38-e71f52c2f051"
      },
      "execution_count": null,
      "outputs": [
        {
          "output_type": "execute_result",
          "data": {
            "text/plain": [
              "          isic_id  target  patient_id  age_approx     sex anatom_site_general  \\\n",
              "387  ISIC_0082829       1  IP_3249371        80.0  female      anterior torso   \n",
              "\n",
              "     clin_size_long_diam_mm          image_type tbp_tile_type   tbp_lv_A  ...  \\\n",
              "387                    9.27  TBP tile: close-up        3D: XP  18.093368  ...   \n",
              "\n",
              "      lesion_id                                          iddx_full     iddx_1  \\\n",
              "387  IL_7881385  Malignant::Malignant epidermal proliferations:...  Malignant   \n",
              "\n",
              "                                 iddx_2                           iddx_3  \\\n",
              "387  Malignant epidermal proliferations  Squamous cell carcinoma in situ   \n",
              "\n",
              "     iddx_4  iddx_5  mel_mitotic_index  mel_thick_mm  \\\n",
              "387     NaN     NaN                NaN           NaN   \n",
              "\n",
              "     tbp_lv_dnn_lesion_confidence  \n",
              "387                     72.211683  \n",
              "\n",
              "[1 rows x 55 columns]"
            ],
            "text/html": [
              "\n",
              "  <div id=\"df-d76ec1ac-3388-40d5-a5da-56b74a78b38e\" class=\"colab-df-container\">\n",
              "    <div>\n",
              "<style scoped>\n",
              "    .dataframe tbody tr th:only-of-type {\n",
              "        vertical-align: middle;\n",
              "    }\n",
              "\n",
              "    .dataframe tbody tr th {\n",
              "        vertical-align: top;\n",
              "    }\n",
              "\n",
              "    .dataframe thead th {\n",
              "        text-align: right;\n",
              "    }\n",
              "</style>\n",
              "<table border=\"1\" class=\"dataframe\">\n",
              "  <thead>\n",
              "    <tr style=\"text-align: right;\">\n",
              "      <th></th>\n",
              "      <th>isic_id</th>\n",
              "      <th>target</th>\n",
              "      <th>patient_id</th>\n",
              "      <th>age_approx</th>\n",
              "      <th>sex</th>\n",
              "      <th>anatom_site_general</th>\n",
              "      <th>clin_size_long_diam_mm</th>\n",
              "      <th>image_type</th>\n",
              "      <th>tbp_tile_type</th>\n",
              "      <th>tbp_lv_A</th>\n",
              "      <th>...</th>\n",
              "      <th>lesion_id</th>\n",
              "      <th>iddx_full</th>\n",
              "      <th>iddx_1</th>\n",
              "      <th>iddx_2</th>\n",
              "      <th>iddx_3</th>\n",
              "      <th>iddx_4</th>\n",
              "      <th>iddx_5</th>\n",
              "      <th>mel_mitotic_index</th>\n",
              "      <th>mel_thick_mm</th>\n",
              "      <th>tbp_lv_dnn_lesion_confidence</th>\n",
              "    </tr>\n",
              "  </thead>\n",
              "  <tbody>\n",
              "    <tr>\n",
              "      <th>387</th>\n",
              "      <td>ISIC_0082829</td>\n",
              "      <td>1</td>\n",
              "      <td>IP_3249371</td>\n",
              "      <td>80.0</td>\n",
              "      <td>female</td>\n",
              "      <td>anterior torso</td>\n",
              "      <td>9.27</td>\n",
              "      <td>TBP tile: close-up</td>\n",
              "      <td>3D: XP</td>\n",
              "      <td>18.093368</td>\n",
              "      <td>...</td>\n",
              "      <td>IL_7881385</td>\n",
              "      <td>Malignant::Malignant epidermal proliferations:...</td>\n",
              "      <td>Malignant</td>\n",
              "      <td>Malignant epidermal proliferations</td>\n",
              "      <td>Squamous cell carcinoma in situ</td>\n",
              "      <td>NaN</td>\n",
              "      <td>NaN</td>\n",
              "      <td>NaN</td>\n",
              "      <td>NaN</td>\n",
              "      <td>72.211683</td>\n",
              "    </tr>\n",
              "  </tbody>\n",
              "</table>\n",
              "<p>1 rows × 55 columns</p>\n",
              "</div>\n",
              "    <div class=\"colab-df-buttons\">\n",
              "\n",
              "  <div class=\"colab-df-container\">\n",
              "    <button class=\"colab-df-convert\" onclick=\"convertToInteractive('df-d76ec1ac-3388-40d5-a5da-56b74a78b38e')\"\n",
              "            title=\"Convert this dataframe to an interactive table.\"\n",
              "            style=\"display:none;\">\n",
              "\n",
              "  <svg xmlns=\"http://www.w3.org/2000/svg\" height=\"24px\" viewBox=\"0 -960 960 960\">\n",
              "    <path d=\"M120-120v-720h720v720H120Zm60-500h600v-160H180v160Zm220 220h160v-160H400v160Zm0 220h160v-160H400v160ZM180-400h160v-160H180v160Zm440 0h160v-160H620v160ZM180-180h160v-160H180v160Zm440 0h160v-160H620v160Z\"/>\n",
              "  </svg>\n",
              "    </button>\n",
              "\n",
              "  <style>\n",
              "    .colab-df-container {\n",
              "      display:flex;\n",
              "      gap: 12px;\n",
              "    }\n",
              "\n",
              "    .colab-df-convert {\n",
              "      background-color: #E8F0FE;\n",
              "      border: none;\n",
              "      border-radius: 50%;\n",
              "      cursor: pointer;\n",
              "      display: none;\n",
              "      fill: #1967D2;\n",
              "      height: 32px;\n",
              "      padding: 0 0 0 0;\n",
              "      width: 32px;\n",
              "    }\n",
              "\n",
              "    .colab-df-convert:hover {\n",
              "      background-color: #E2EBFA;\n",
              "      box-shadow: 0px 1px 2px rgba(60, 64, 67, 0.3), 0px 1px 3px 1px rgba(60, 64, 67, 0.15);\n",
              "      fill: #174EA6;\n",
              "    }\n",
              "\n",
              "    .colab-df-buttons div {\n",
              "      margin-bottom: 4px;\n",
              "    }\n",
              "\n",
              "    [theme=dark] .colab-df-convert {\n",
              "      background-color: #3B4455;\n",
              "      fill: #D2E3FC;\n",
              "    }\n",
              "\n",
              "    [theme=dark] .colab-df-convert:hover {\n",
              "      background-color: #434B5C;\n",
              "      box-shadow: 0px 1px 3px 1px rgba(0, 0, 0, 0.15);\n",
              "      filter: drop-shadow(0px 1px 2px rgba(0, 0, 0, 0.3));\n",
              "      fill: #FFFFFF;\n",
              "    }\n",
              "  </style>\n",
              "\n",
              "    <script>\n",
              "      const buttonEl =\n",
              "        document.querySelector('#df-d76ec1ac-3388-40d5-a5da-56b74a78b38e button.colab-df-convert');\n",
              "      buttonEl.style.display =\n",
              "        google.colab.kernel.accessAllowed ? 'block' : 'none';\n",
              "\n",
              "      async function convertToInteractive(key) {\n",
              "        const element = document.querySelector('#df-d76ec1ac-3388-40d5-a5da-56b74a78b38e');\n",
              "        const dataTable =\n",
              "          await google.colab.kernel.invokeFunction('convertToInteractive',\n",
              "                                                    [key], {});\n",
              "        if (!dataTable) return;\n",
              "\n",
              "        const docLinkHtml = 'Like what you see? Visit the ' +\n",
              "          '<a target=\"_blank\" href=https://colab.research.google.com/notebooks/data_table.ipynb>data table notebook</a>'\n",
              "          + ' to learn more about interactive tables.';\n",
              "        element.innerHTML = '';\n",
              "        dataTable['output_type'] = 'display_data';\n",
              "        await google.colab.output.renderOutput(dataTable, element);\n",
              "        const docLink = document.createElement('div');\n",
              "        docLink.innerHTML = docLinkHtml;\n",
              "        element.appendChild(docLink);\n",
              "      }\n",
              "    </script>\n",
              "  </div>\n",
              "\n",
              "\n",
              "    </div>\n",
              "  </div>\n"
            ],
            "application/vnd.google.colaboratory.intrinsic+json": {
              "type": "dataframe"
            }
          },
          "metadata": {},
          "execution_count": 96
        }
      ]
    },
    {
      "cell_type": "code",
      "source": [
        "data_mod[data_mod['target'] == 1].head(1)"
      ],
      "metadata": {
        "colab": {
          "base_uri": "https://localhost:8080/",
          "height": 118
        },
        "id": "DoPb9GmIuTqI",
        "outputId": "73e8c37a-984d-4c29-f871-d2fac4cafc5a"
      },
      "execution_count": null,
      "outputs": [
        {
          "output_type": "execute_result",
          "data": {
            "text/plain": [
              "     age_approx  clin_size_long_diam_mm  tbp_lv_area_perim_ratio  \\\n",
              "387        80.0                    9.27                25.940259   \n",
              "\n",
              "     tbp_lv_color_std_mean  tbp_lv_eccentricity   tbp_lv_x    tbp_lv_y  \\\n",
              "387               3.287692             0.763841  61.956005  1180.00354   \n",
              "\n",
              "      tbp_lv_z     sex       tbp_lv_location  target  \n",
              "387 -77.904053  female  Torso Front Top Half       1  "
            ],
            "text/html": [
              "\n",
              "  <div id=\"df-630a9c57-573d-4dd5-a329-7d33b4142758\" class=\"colab-df-container\">\n",
              "    <div>\n",
              "<style scoped>\n",
              "    .dataframe tbody tr th:only-of-type {\n",
              "        vertical-align: middle;\n",
              "    }\n",
              "\n",
              "    .dataframe tbody tr th {\n",
              "        vertical-align: top;\n",
              "    }\n",
              "\n",
              "    .dataframe thead th {\n",
              "        text-align: right;\n",
              "    }\n",
              "</style>\n",
              "<table border=\"1\" class=\"dataframe\">\n",
              "  <thead>\n",
              "    <tr style=\"text-align: right;\">\n",
              "      <th></th>\n",
              "      <th>age_approx</th>\n",
              "      <th>clin_size_long_diam_mm</th>\n",
              "      <th>tbp_lv_area_perim_ratio</th>\n",
              "      <th>tbp_lv_color_std_mean</th>\n",
              "      <th>tbp_lv_eccentricity</th>\n",
              "      <th>tbp_lv_x</th>\n",
              "      <th>tbp_lv_y</th>\n",
              "      <th>tbp_lv_z</th>\n",
              "      <th>sex</th>\n",
              "      <th>tbp_lv_location</th>\n",
              "      <th>target</th>\n",
              "    </tr>\n",
              "  </thead>\n",
              "  <tbody>\n",
              "    <tr>\n",
              "      <th>387</th>\n",
              "      <td>80.0</td>\n",
              "      <td>9.27</td>\n",
              "      <td>25.940259</td>\n",
              "      <td>3.287692</td>\n",
              "      <td>0.763841</td>\n",
              "      <td>61.956005</td>\n",
              "      <td>1180.00354</td>\n",
              "      <td>-77.904053</td>\n",
              "      <td>female</td>\n",
              "      <td>Torso Front Top Half</td>\n",
              "      <td>1</td>\n",
              "    </tr>\n",
              "  </tbody>\n",
              "</table>\n",
              "</div>\n",
              "    <div class=\"colab-df-buttons\">\n",
              "\n",
              "  <div class=\"colab-df-container\">\n",
              "    <button class=\"colab-df-convert\" onclick=\"convertToInteractive('df-630a9c57-573d-4dd5-a329-7d33b4142758')\"\n",
              "            title=\"Convert this dataframe to an interactive table.\"\n",
              "            style=\"display:none;\">\n",
              "\n",
              "  <svg xmlns=\"http://www.w3.org/2000/svg\" height=\"24px\" viewBox=\"0 -960 960 960\">\n",
              "    <path d=\"M120-120v-720h720v720H120Zm60-500h600v-160H180v160Zm220 220h160v-160H400v160Zm0 220h160v-160H400v160ZM180-400h160v-160H180v160Zm440 0h160v-160H620v160ZM180-180h160v-160H180v160Zm440 0h160v-160H620v160Z\"/>\n",
              "  </svg>\n",
              "    </button>\n",
              "\n",
              "  <style>\n",
              "    .colab-df-container {\n",
              "      display:flex;\n",
              "      gap: 12px;\n",
              "    }\n",
              "\n",
              "    .colab-df-convert {\n",
              "      background-color: #E8F0FE;\n",
              "      border: none;\n",
              "      border-radius: 50%;\n",
              "      cursor: pointer;\n",
              "      display: none;\n",
              "      fill: #1967D2;\n",
              "      height: 32px;\n",
              "      padding: 0 0 0 0;\n",
              "      width: 32px;\n",
              "    }\n",
              "\n",
              "    .colab-df-convert:hover {\n",
              "      background-color: #E2EBFA;\n",
              "      box-shadow: 0px 1px 2px rgba(60, 64, 67, 0.3), 0px 1px 3px 1px rgba(60, 64, 67, 0.15);\n",
              "      fill: #174EA6;\n",
              "    }\n",
              "\n",
              "    .colab-df-buttons div {\n",
              "      margin-bottom: 4px;\n",
              "    }\n",
              "\n",
              "    [theme=dark] .colab-df-convert {\n",
              "      background-color: #3B4455;\n",
              "      fill: #D2E3FC;\n",
              "    }\n",
              "\n",
              "    [theme=dark] .colab-df-convert:hover {\n",
              "      background-color: #434B5C;\n",
              "      box-shadow: 0px 1px 3px 1px rgba(0, 0, 0, 0.15);\n",
              "      filter: drop-shadow(0px 1px 2px rgba(0, 0, 0, 0.3));\n",
              "      fill: #FFFFFF;\n",
              "    }\n",
              "  </style>\n",
              "\n",
              "    <script>\n",
              "      const buttonEl =\n",
              "        document.querySelector('#df-630a9c57-573d-4dd5-a329-7d33b4142758 button.colab-df-convert');\n",
              "      buttonEl.style.display =\n",
              "        google.colab.kernel.accessAllowed ? 'block' : 'none';\n",
              "\n",
              "      async function convertToInteractive(key) {\n",
              "        const element = document.querySelector('#df-630a9c57-573d-4dd5-a329-7d33b4142758');\n",
              "        const dataTable =\n",
              "          await google.colab.kernel.invokeFunction('convertToInteractive',\n",
              "                                                    [key], {});\n",
              "        if (!dataTable) return;\n",
              "\n",
              "        const docLinkHtml = 'Like what you see? Visit the ' +\n",
              "          '<a target=\"_blank\" href=https://colab.research.google.com/notebooks/data_table.ipynb>data table notebook</a>'\n",
              "          + ' to learn more about interactive tables.';\n",
              "        element.innerHTML = '';\n",
              "        dataTable['output_type'] = 'display_data';\n",
              "        await google.colab.output.renderOutput(dataTable, element);\n",
              "        const docLink = document.createElement('div');\n",
              "        docLink.innerHTML = docLinkHtml;\n",
              "        element.appendChild(docLink);\n",
              "      }\n",
              "    </script>\n",
              "  </div>\n",
              "\n",
              "\n",
              "    </div>\n",
              "  </div>\n"
            ],
            "application/vnd.google.colaboratory.intrinsic+json": {
              "type": "dataframe",
              "summary": "{\n  \"name\": \"data_mod[data_mod['target'] == 1]\",\n  \"rows\": 1,\n  \"fields\": [\n    {\n      \"column\": \"age_approx\",\n      \"properties\": {\n        \"dtype\": \"number\",\n        \"std\": null,\n        \"min\": 80.0,\n        \"max\": 80.0,\n        \"num_unique_values\": 1,\n        \"samples\": [\n          80.0\n        ],\n        \"semantic_type\": \"\",\n        \"description\": \"\"\n      }\n    },\n    {\n      \"column\": \"clin_size_long_diam_mm\",\n      \"properties\": {\n        \"dtype\": \"number\",\n        \"std\": null,\n        \"min\": 9.27,\n        \"max\": 9.27,\n        \"num_unique_values\": 1,\n        \"samples\": [\n          9.27\n        ],\n        \"semantic_type\": \"\",\n        \"description\": \"\"\n      }\n    },\n    {\n      \"column\": \"tbp_lv_area_perim_ratio\",\n      \"properties\": {\n        \"dtype\": \"number\",\n        \"std\": null,\n        \"min\": 25.9402587979666,\n        \"max\": 25.9402587979666,\n        \"num_unique_values\": 1,\n        \"samples\": [\n          25.9402587979666\n        ],\n        \"semantic_type\": \"\",\n        \"description\": \"\"\n      }\n    },\n    {\n      \"column\": \"tbp_lv_color_std_mean\",\n      \"properties\": {\n        \"dtype\": \"number\",\n        \"std\": null,\n        \"min\": 3.28769156745635,\n        \"max\": 3.28769156745635,\n        \"num_unique_values\": 1,\n        \"samples\": [\n          3.28769156745635\n        ],\n        \"semantic_type\": \"\",\n        \"description\": \"\"\n      }\n    },\n    {\n      \"column\": \"tbp_lv_eccentricity\",\n      \"properties\": {\n        \"dtype\": \"number\",\n        \"std\": null,\n        \"min\": 0.76384134918667,\n        \"max\": 0.76384134918667,\n        \"num_unique_values\": 1,\n        \"samples\": [\n          0.76384134918667\n        ],\n        \"semantic_type\": \"\",\n        \"description\": \"\"\n      }\n    },\n    {\n      \"column\": \"tbp_lv_x\",\n      \"properties\": {\n        \"dtype\": \"number\",\n        \"std\": null,\n        \"min\": 61.9560050964355,\n        \"max\": 61.9560050964355,\n        \"num_unique_values\": 1,\n        \"samples\": [\n          61.9560050964355\n        ],\n        \"semantic_type\": \"\",\n        \"description\": \"\"\n      }\n    },\n    {\n      \"column\": \"tbp_lv_y\",\n      \"properties\": {\n        \"dtype\": \"number\",\n        \"std\": null,\n        \"min\": 1180.00354003906,\n        \"max\": 1180.00354003906,\n        \"num_unique_values\": 1,\n        \"samples\": [\n          1180.00354003906\n        ],\n        \"semantic_type\": \"\",\n        \"description\": \"\"\n      }\n    },\n    {\n      \"column\": \"tbp_lv_z\",\n      \"properties\": {\n        \"dtype\": \"number\",\n        \"std\": null,\n        \"min\": -77.904052734375,\n        \"max\": -77.904052734375,\n        \"num_unique_values\": 1,\n        \"samples\": [\n          -77.904052734375\n        ],\n        \"semantic_type\": \"\",\n        \"description\": \"\"\n      }\n    },\n    {\n      \"column\": \"sex\",\n      \"properties\": {\n        \"dtype\": \"string\",\n        \"num_unique_values\": 1,\n        \"samples\": [\n          \"female\"\n        ],\n        \"semantic_type\": \"\",\n        \"description\": \"\"\n      }\n    },\n    {\n      \"column\": \"tbp_lv_location\",\n      \"properties\": {\n        \"dtype\": \"string\",\n        \"num_unique_values\": 1,\n        \"samples\": [\n          \"Torso Front Top Half\"\n        ],\n        \"semantic_type\": \"\",\n        \"description\": \"\"\n      }\n    },\n    {\n      \"column\": \"target\",\n      \"properties\": {\n        \"dtype\": \"number\",\n        \"std\": null,\n        \"min\": 1,\n        \"max\": 1,\n        \"num_unique_values\": 1,\n        \"samples\": [\n          1\n        ],\n        \"semantic_type\": \"\",\n        \"description\": \"\"\n      }\n    }\n  ]\n}"
            }
          },
          "metadata": {},
          "execution_count": 97
        }
      ]
    },
    {
      "cell_type": "code",
      "source": [],
      "metadata": {
        "id": "PFDUIcJLubHe"
      },
      "execution_count": null,
      "outputs": []
    }
  ]
}
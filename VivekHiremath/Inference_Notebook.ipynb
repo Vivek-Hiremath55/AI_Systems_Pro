{
  "cells": [
    {
      "cell_type": "markdown",
      "metadata": {
        "id": "view-in-github",
        "colab_type": "text"
      },
      "source": [
        "<a href=\"https://colab.research.google.com/github/Vivek-Hiremath55/AI_Systems_Pro/blob/main/VivekHiremath/Inference_Notebook.ipynb\" target=\"_parent\"><img src=\"https://colab.research.google.com/assets/colab-badge.svg\" alt=\"Open In Colab\"/></a>"
      ]
    },
    {
      "cell_type": "markdown",
      "id": "82af3902-cb96-4116-bddf-83089118311d",
      "metadata": {
        "id": "82af3902-cb96-4116-bddf-83089118311d"
      },
      "source": [
        "# Model Requirements\n",
        "\n",
        "### Data Classifier Probabilities + Image Classifier Probabilities\n",
        "\n",
        "#### nstructions\n",
        "1. Load Data Classifier Model\n",
        "2. Load image Classifier Model\n",
        "\n",
        "\n",
        "cumulative_column_list = ['isic_id', 'age_approx', 'sex', 'clin_size_long_diam_mm', 'tbp_lv_area_perim_ratio',\n",
        "               'tbp_lv_color_std_mean', 'tbp_lv_eccentricity', 'tbp_lv_location', 'tbp_lv_x',\n",
        "               'tbp_lv_y', 'tbp_lv_z', 'target']\n",
        "\n",
        "#### Requirements for Data Model ->\n",
        "1. All except 'isic_id'\n",
        "2. Drop null values\n",
        "3. One Hot encoding for categorical variables\n",
        "4. Make sure the columns in the dataframe are the same as those the model is trained on\n",
        "\n",
        "#### Requirement for Image Model ->\n",
        "1. Columns needed 'isic_id' 'target'\n",
        "\n"
      ]
    },
    {
      "cell_type": "markdown",
      "id": "b3fe7495-57c0-4cf0-868f-3483470b0540",
      "metadata": {
        "id": "b3fe7495-57c0-4cf0-868f-3483470b0540"
      },
      "source": [
        "# Importing Libraries"
      ]
    },
    {
      "cell_type": "code",
      "source": [
        "from google.colab import drive\n",
        "drive.mount('/content/drive')"
      ],
      "metadata": {
        "colab": {
          "base_uri": "https://localhost:8080/"
        },
        "id": "egmuYNuoso-e",
        "outputId": "3af01ce9-bcb9-4c5d-cdaf-ed2e9975bd03"
      },
      "id": "egmuYNuoso-e",
      "execution_count": 1,
      "outputs": [
        {
          "output_type": "stream",
          "name": "stdout",
          "text": [
            "Mounted at /content/drive\n"
          ]
        }
      ]
    },
    {
      "cell_type": "code",
      "execution_count": 2,
      "id": "bb9f437a-1ab4-4f5b-bb1a-1e2da7def780",
      "metadata": {
        "tags": [],
        "id": "bb9f437a-1ab4-4f5b-bb1a-1e2da7def780"
      },
      "outputs": [],
      "source": [
        "import joblib\n",
        "import pandas as pd\n",
        "import numpy as np\n",
        "import torch.nn as nn\n",
        "from torchvision.models import resnet18\n",
        "import torch.optim as optim\n",
        "from IPython.display import display\n",
        "from torch.utils.data import DataLoader, Dataset, TensorDataset\n",
        "import torch\n",
        "from torch.utils.data import TensorDataset, DataLoader"
      ]
    },
    {
      "cell_type": "markdown",
      "id": "eec27d4d-de65-4672-840c-95d569020db8",
      "metadata": {
        "id": "eec27d4d-de65-4672-840c-95d569020db8"
      },
      "source": [
        "# Importing Classification Models"
      ]
    },
    {
      "cell_type": "code",
      "execution_count": 3,
      "id": "ceb7c182-9379-4098-bec2-01568845f5e7",
      "metadata": {
        "tags": [],
        "id": "ceb7c182-9379-4098-bec2-01568845f5e7"
      },
      "outputs": [],
      "source": [
        "data_model = joblib.load('/content/drive/MyDrive/AIS_Pro_Data/best_rf_model_ADASYN.pkl')\n",
        "image_model = joblib.load('/content/drive/MyDrive/AIS_Pro_Data/image_classifier.pkl')"
      ]
    },
    {
      "cell_type": "markdown",
      "id": "d0fa113b-5678-40a8-bb95-e9c4d8f188d1",
      "metadata": {
        "id": "d0fa113b-5678-40a8-bb95-e9c4d8f188d1"
      },
      "source": [
        "# Importing Dataset"
      ]
    },
    {
      "cell_type": "code",
      "execution_count": 4,
      "id": "37e9fe8d-c225-4970-8a38-c43b963aca2e",
      "metadata": {
        "tags": [],
        "colab": {
          "base_uri": "https://localhost:8080/"
        },
        "id": "37e9fe8d-c225-4970-8a38-c43b963aca2e",
        "outputId": "ae4cfee2-121a-4fbd-94be-84403e1da668"
      },
      "outputs": [
        {
          "output_type": "stream",
          "name": "stderr",
          "text": [
            "<ipython-input-4-9d394cdcbe96>:1: DtypeWarning: Columns (51,52) have mixed types. Specify dtype option on import or set low_memory=False.\n",
            "  train_data = pd.read_csv('/content/drive/MyDrive/AIS_Pro_Data/train-metadata.csv')\n"
          ]
        }
      ],
      "source": [
        "train_data = pd.read_csv('/content/drive/MyDrive/AIS_Pro_Data/train-metadata.csv')"
      ]
    },
    {
      "cell_type": "markdown",
      "id": "ac0054fb-8d09-4caf-bba0-a4743896d72c",
      "metadata": {
        "id": "ac0054fb-8d09-4caf-bba0-a4743896d72c"
      },
      "source": [
        "# Tranforming Main Dataset"
      ]
    },
    {
      "cell_type": "code",
      "execution_count": 5,
      "id": "39b9abb9-26de-4654-819f-faa6c53eadc0",
      "metadata": {
        "tags": [],
        "id": "39b9abb9-26de-4654-819f-faa6c53eadc0"
      },
      "outputs": [],
      "source": [
        "cumulative_column_list = ['isic_id', 'age_approx', 'sex', 'clin_size_long_diam_mm', 'tbp_lv_area_perim_ratio',\n",
        "                          'tbp_lv_color_std_mean', 'tbp_lv_eccentricity', 'tbp_lv_location', 'tbp_lv_x',\n",
        "                          'tbp_lv_y', 'tbp_lv_z', 'target']"
      ]
    },
    {
      "cell_type": "code",
      "execution_count": 6,
      "id": "cdf75ffc-fc8c-43d3-a5b5-6904c4f2542d",
      "metadata": {
        "tags": [],
        "id": "cdf75ffc-fc8c-43d3-a5b5-6904c4f2542d"
      },
      "outputs": [],
      "source": [
        "cumulative_data = train_data[cumulative_column_list]"
      ]
    },
    {
      "cell_type": "code",
      "execution_count": 7,
      "id": "41832f4f-6c96-46f6-ae81-5c00643942d5",
      "metadata": {
        "tags": [],
        "colab": {
          "base_uri": "https://localhost:8080/"
        },
        "id": "41832f4f-6c96-46f6-ae81-5c00643942d5",
        "outputId": "581d7898-337a-4225-d96e-b0b991264776"
      },
      "outputs": [
        {
          "output_type": "stream",
          "name": "stderr",
          "text": [
            "<ipython-input-7-5a93b13e6883>:1: SettingWithCopyWarning: \n",
            "A value is trying to be set on a copy of a slice from a DataFrame\n",
            "\n",
            "See the caveats in the documentation: https://pandas.pydata.org/pandas-docs/stable/user_guide/indexing.html#returning-a-view-versus-a-copy\n",
            "  cumulative_data.dropna(axis = 0, inplace =True)\n"
          ]
        }
      ],
      "source": [
        "cumulative_data.dropna(axis = 0, inplace =True)"
      ]
    },
    {
      "cell_type": "code",
      "execution_count": 8,
      "id": "3f15efb6-2d2a-4f1e-91ad-60fbcec587af",
      "metadata": {
        "tags": [],
        "colab": {
          "base_uri": "https://localhost:8080/"
        },
        "id": "3f15efb6-2d2a-4f1e-91ad-60fbcec587af",
        "outputId": "ba7db51e-dfef-41f7-a5b6-9b6abf38ef19"
      },
      "outputs": [
        {
          "output_type": "execute_result",
          "data": {
            "text/plain": [
              "Index(['isic_id', 'age_approx', 'sex', 'clin_size_long_diam_mm',\n",
              "       'tbp_lv_area_perim_ratio', 'tbp_lv_color_std_mean',\n",
              "       'tbp_lv_eccentricity', 'tbp_lv_location', 'tbp_lv_x', 'tbp_lv_y',\n",
              "       'tbp_lv_z', 'target'],\n",
              "      dtype='object')"
            ]
          },
          "metadata": {},
          "execution_count": 8
        }
      ],
      "source": [
        "cumulative_data.columns\n"
      ]
    },
    {
      "cell_type": "code",
      "execution_count": 9,
      "id": "6e426729-e73f-4f47-b3aa-f17b7bda8d21",
      "metadata": {
        "tags": [],
        "colab": {
          "base_uri": "https://localhost:8080/",
          "height": 101
        },
        "id": "6e426729-e73f-4f47-b3aa-f17b7bda8d21",
        "outputId": "65aeeed5-f4de-44d7-ac88-fb5e4cb1a53a"
      },
      "outputs": [
        {
          "output_type": "execute_result",
          "data": {
            "text/plain": [
              "        isic_id  age_approx   sex  clin_size_long_diam_mm  \\\n",
              "0  ISIC_0015670        60.0  male                    3.04   \n",
              "\n",
              "   tbp_lv_area_perim_ratio  tbp_lv_color_std_mean  tbp_lv_eccentricity  \\\n",
              "0                 27.47617                    0.0             0.901302   \n",
              "\n",
              "     tbp_lv_location    tbp_lv_x    tbp_lv_y   tbp_lv_z  target  \n",
              "0  Right Leg - Upper -182.703552  613.493652 -42.427948       0  "
            ],
            "text/html": [
              "\n",
              "  <div id=\"df-18d137ed-138a-4428-9024-cdba68a1898c\" class=\"colab-df-container\">\n",
              "    <div>\n",
              "<style scoped>\n",
              "    .dataframe tbody tr th:only-of-type {\n",
              "        vertical-align: middle;\n",
              "    }\n",
              "\n",
              "    .dataframe tbody tr th {\n",
              "        vertical-align: top;\n",
              "    }\n",
              "\n",
              "    .dataframe thead th {\n",
              "        text-align: right;\n",
              "    }\n",
              "</style>\n",
              "<table border=\"1\" class=\"dataframe\">\n",
              "  <thead>\n",
              "    <tr style=\"text-align: right;\">\n",
              "      <th></th>\n",
              "      <th>isic_id</th>\n",
              "      <th>age_approx</th>\n",
              "      <th>sex</th>\n",
              "      <th>clin_size_long_diam_mm</th>\n",
              "      <th>tbp_lv_area_perim_ratio</th>\n",
              "      <th>tbp_lv_color_std_mean</th>\n",
              "      <th>tbp_lv_eccentricity</th>\n",
              "      <th>tbp_lv_location</th>\n",
              "      <th>tbp_lv_x</th>\n",
              "      <th>tbp_lv_y</th>\n",
              "      <th>tbp_lv_z</th>\n",
              "      <th>target</th>\n",
              "    </tr>\n",
              "  </thead>\n",
              "  <tbody>\n",
              "    <tr>\n",
              "      <th>0</th>\n",
              "      <td>ISIC_0015670</td>\n",
              "      <td>60.0</td>\n",
              "      <td>male</td>\n",
              "      <td>3.04</td>\n",
              "      <td>27.47617</td>\n",
              "      <td>0.0</td>\n",
              "      <td>0.901302</td>\n",
              "      <td>Right Leg - Upper</td>\n",
              "      <td>-182.703552</td>\n",
              "      <td>613.493652</td>\n",
              "      <td>-42.427948</td>\n",
              "      <td>0</td>\n",
              "    </tr>\n",
              "  </tbody>\n",
              "</table>\n",
              "</div>\n",
              "    <div class=\"colab-df-buttons\">\n",
              "\n",
              "  <div class=\"colab-df-container\">\n",
              "    <button class=\"colab-df-convert\" onclick=\"convertToInteractive('df-18d137ed-138a-4428-9024-cdba68a1898c')\"\n",
              "            title=\"Convert this dataframe to an interactive table.\"\n",
              "            style=\"display:none;\">\n",
              "\n",
              "  <svg xmlns=\"http://www.w3.org/2000/svg\" height=\"24px\" viewBox=\"0 -960 960 960\">\n",
              "    <path d=\"M120-120v-720h720v720H120Zm60-500h600v-160H180v160Zm220 220h160v-160H400v160Zm0 220h160v-160H400v160ZM180-400h160v-160H180v160Zm440 0h160v-160H620v160ZM180-180h160v-160H180v160Zm440 0h160v-160H620v160Z\"/>\n",
              "  </svg>\n",
              "    </button>\n",
              "\n",
              "  <style>\n",
              "    .colab-df-container {\n",
              "      display:flex;\n",
              "      gap: 12px;\n",
              "    }\n",
              "\n",
              "    .colab-df-convert {\n",
              "      background-color: #E8F0FE;\n",
              "      border: none;\n",
              "      border-radius: 50%;\n",
              "      cursor: pointer;\n",
              "      display: none;\n",
              "      fill: #1967D2;\n",
              "      height: 32px;\n",
              "      padding: 0 0 0 0;\n",
              "      width: 32px;\n",
              "    }\n",
              "\n",
              "    .colab-df-convert:hover {\n",
              "      background-color: #E2EBFA;\n",
              "      box-shadow: 0px 1px 2px rgba(60, 64, 67, 0.3), 0px 1px 3px 1px rgba(60, 64, 67, 0.15);\n",
              "      fill: #174EA6;\n",
              "    }\n",
              "\n",
              "    .colab-df-buttons div {\n",
              "      margin-bottom: 4px;\n",
              "    }\n",
              "\n",
              "    [theme=dark] .colab-df-convert {\n",
              "      background-color: #3B4455;\n",
              "      fill: #D2E3FC;\n",
              "    }\n",
              "\n",
              "    [theme=dark] .colab-df-convert:hover {\n",
              "      background-color: #434B5C;\n",
              "      box-shadow: 0px 1px 3px 1px rgba(0, 0, 0, 0.15);\n",
              "      filter: drop-shadow(0px 1px 2px rgba(0, 0, 0, 0.3));\n",
              "      fill: #FFFFFF;\n",
              "    }\n",
              "  </style>\n",
              "\n",
              "    <script>\n",
              "      const buttonEl =\n",
              "        document.querySelector('#df-18d137ed-138a-4428-9024-cdba68a1898c button.colab-df-convert');\n",
              "      buttonEl.style.display =\n",
              "        google.colab.kernel.accessAllowed ? 'block' : 'none';\n",
              "\n",
              "      async function convertToInteractive(key) {\n",
              "        const element = document.querySelector('#df-18d137ed-138a-4428-9024-cdba68a1898c');\n",
              "        const dataTable =\n",
              "          await google.colab.kernel.invokeFunction('convertToInteractive',\n",
              "                                                    [key], {});\n",
              "        if (!dataTable) return;\n",
              "\n",
              "        const docLinkHtml = 'Like what you see? Visit the ' +\n",
              "          '<a target=\"_blank\" href=https://colab.research.google.com/notebooks/data_table.ipynb>data table notebook</a>'\n",
              "          + ' to learn more about interactive tables.';\n",
              "        element.innerHTML = '';\n",
              "        dataTable['output_type'] = 'display_data';\n",
              "        await google.colab.output.renderOutput(dataTable, element);\n",
              "        const docLink = document.createElement('div');\n",
              "        docLink.innerHTML = docLinkHtml;\n",
              "        element.appendChild(docLink);\n",
              "      }\n",
              "    </script>\n",
              "  </div>\n",
              "\n",
              "\n",
              "    </div>\n",
              "  </div>\n"
            ],
            "application/vnd.google.colaboratory.intrinsic+json": {
              "type": "dataframe",
              "variable_name": "cumulative_data"
            }
          },
          "metadata": {},
          "execution_count": 9
        }
      ],
      "source": [
        "cumulative_data.head(1)"
      ]
    },
    {
      "cell_type": "code",
      "execution_count": 10,
      "id": "c4159478-bae2-4e57-bb01-db371c657a47",
      "metadata": {
        "tags": [],
        "id": "c4159478-bae2-4e57-bb01-db371c657a47"
      },
      "outputs": [],
      "source": [
        "columns_for_encoding = ['sex', 'tbp_lv_location']"
      ]
    },
    {
      "cell_type": "code",
      "execution_count": 11,
      "id": "4692d543-42be-489a-9bc7-79bb620dd563",
      "metadata": {
        "tags": [],
        "id": "4692d543-42be-489a-9bc7-79bb620dd563"
      },
      "outputs": [],
      "source": [
        "cumulative_data_comp = pd.get_dummies(cumulative_data[columns_for_encoding], drop_first =True)"
      ]
    },
    {
      "cell_type": "code",
      "execution_count": 12,
      "id": "5c806a2f-b4b3-48b1-931f-c5b2e8b93cf2",
      "metadata": {
        "tags": [],
        "colab": {
          "base_uri": "https://localhost:8080/",
          "height": 147
        },
        "id": "5c806a2f-b4b3-48b1-931f-c5b2e8b93cf2",
        "outputId": "cb366679-70af-4e13-c331-4b42d44e9a65"
      },
      "outputs": [
        {
          "output_type": "execute_result",
          "data": {
            "text/plain": [
              "   sex_male  tbp_lv_location_Left Arm  tbp_lv_location_Left Arm - Lower  \\\n",
              "0      True                     False                             False   \n",
              "\n",
              "   tbp_lv_location_Left Arm - Upper  tbp_lv_location_Left Leg  \\\n",
              "0                             False                     False   \n",
              "\n",
              "   tbp_lv_location_Left Leg - Lower  tbp_lv_location_Left Leg - Upper  \\\n",
              "0                             False                             False   \n",
              "\n",
              "   tbp_lv_location_Right Arm  tbp_lv_location_Right Arm - Lower  \\\n",
              "0                      False                              False   \n",
              "\n",
              "   tbp_lv_location_Right Arm - Upper  ...  tbp_lv_location_Right Leg - Lower  \\\n",
              "0                              False  ...                              False   \n",
              "\n",
              "   tbp_lv_location_Right Leg - Upper  tbp_lv_location_Torso Back  \\\n",
              "0                               True                       False   \n",
              "\n",
              "   tbp_lv_location_Torso Back Bottom Third  \\\n",
              "0                                    False   \n",
              "\n",
              "   tbp_lv_location_Torso Back Middle Third  \\\n",
              "0                                    False   \n",
              "\n",
              "   tbp_lv_location_Torso Back Top Third  tbp_lv_location_Torso Front  \\\n",
              "0                                 False                        False   \n",
              "\n",
              "   tbp_lv_location_Torso Front Bottom Half  \\\n",
              "0                                    False   \n",
              "\n",
              "   tbp_lv_location_Torso Front Top Half  tbp_lv_location_Unknown  \n",
              "0                                 False                    False  \n",
              "\n",
              "[1 rows x 21 columns]"
            ],
            "text/html": [
              "\n",
              "  <div id=\"df-3acac9bc-f4d3-4b27-8fc8-081b9a112c91\" class=\"colab-df-container\">\n",
              "    <div>\n",
              "<style scoped>\n",
              "    .dataframe tbody tr th:only-of-type {\n",
              "        vertical-align: middle;\n",
              "    }\n",
              "\n",
              "    .dataframe tbody tr th {\n",
              "        vertical-align: top;\n",
              "    }\n",
              "\n",
              "    .dataframe thead th {\n",
              "        text-align: right;\n",
              "    }\n",
              "</style>\n",
              "<table border=\"1\" class=\"dataframe\">\n",
              "  <thead>\n",
              "    <tr style=\"text-align: right;\">\n",
              "      <th></th>\n",
              "      <th>sex_male</th>\n",
              "      <th>tbp_lv_location_Left Arm</th>\n",
              "      <th>tbp_lv_location_Left Arm - Lower</th>\n",
              "      <th>tbp_lv_location_Left Arm - Upper</th>\n",
              "      <th>tbp_lv_location_Left Leg</th>\n",
              "      <th>tbp_lv_location_Left Leg - Lower</th>\n",
              "      <th>tbp_lv_location_Left Leg - Upper</th>\n",
              "      <th>tbp_lv_location_Right Arm</th>\n",
              "      <th>tbp_lv_location_Right Arm - Lower</th>\n",
              "      <th>tbp_lv_location_Right Arm - Upper</th>\n",
              "      <th>...</th>\n",
              "      <th>tbp_lv_location_Right Leg - Lower</th>\n",
              "      <th>tbp_lv_location_Right Leg - Upper</th>\n",
              "      <th>tbp_lv_location_Torso Back</th>\n",
              "      <th>tbp_lv_location_Torso Back Bottom Third</th>\n",
              "      <th>tbp_lv_location_Torso Back Middle Third</th>\n",
              "      <th>tbp_lv_location_Torso Back Top Third</th>\n",
              "      <th>tbp_lv_location_Torso Front</th>\n",
              "      <th>tbp_lv_location_Torso Front Bottom Half</th>\n",
              "      <th>tbp_lv_location_Torso Front Top Half</th>\n",
              "      <th>tbp_lv_location_Unknown</th>\n",
              "    </tr>\n",
              "  </thead>\n",
              "  <tbody>\n",
              "    <tr>\n",
              "      <th>0</th>\n",
              "      <td>True</td>\n",
              "      <td>False</td>\n",
              "      <td>False</td>\n",
              "      <td>False</td>\n",
              "      <td>False</td>\n",
              "      <td>False</td>\n",
              "      <td>False</td>\n",
              "      <td>False</td>\n",
              "      <td>False</td>\n",
              "      <td>False</td>\n",
              "      <td>...</td>\n",
              "      <td>False</td>\n",
              "      <td>True</td>\n",
              "      <td>False</td>\n",
              "      <td>False</td>\n",
              "      <td>False</td>\n",
              "      <td>False</td>\n",
              "      <td>False</td>\n",
              "      <td>False</td>\n",
              "      <td>False</td>\n",
              "      <td>False</td>\n",
              "    </tr>\n",
              "  </tbody>\n",
              "</table>\n",
              "<p>1 rows × 21 columns</p>\n",
              "</div>\n",
              "    <div class=\"colab-df-buttons\">\n",
              "\n",
              "  <div class=\"colab-df-container\">\n",
              "    <button class=\"colab-df-convert\" onclick=\"convertToInteractive('df-3acac9bc-f4d3-4b27-8fc8-081b9a112c91')\"\n",
              "            title=\"Convert this dataframe to an interactive table.\"\n",
              "            style=\"display:none;\">\n",
              "\n",
              "  <svg xmlns=\"http://www.w3.org/2000/svg\" height=\"24px\" viewBox=\"0 -960 960 960\">\n",
              "    <path d=\"M120-120v-720h720v720H120Zm60-500h600v-160H180v160Zm220 220h160v-160H400v160Zm0 220h160v-160H400v160ZM180-400h160v-160H180v160Zm440 0h160v-160H620v160ZM180-180h160v-160H180v160Zm440 0h160v-160H620v160Z\"/>\n",
              "  </svg>\n",
              "    </button>\n",
              "\n",
              "  <style>\n",
              "    .colab-df-container {\n",
              "      display:flex;\n",
              "      gap: 12px;\n",
              "    }\n",
              "\n",
              "    .colab-df-convert {\n",
              "      background-color: #E8F0FE;\n",
              "      border: none;\n",
              "      border-radius: 50%;\n",
              "      cursor: pointer;\n",
              "      display: none;\n",
              "      fill: #1967D2;\n",
              "      height: 32px;\n",
              "      padding: 0 0 0 0;\n",
              "      width: 32px;\n",
              "    }\n",
              "\n",
              "    .colab-df-convert:hover {\n",
              "      background-color: #E2EBFA;\n",
              "      box-shadow: 0px 1px 2px rgba(60, 64, 67, 0.3), 0px 1px 3px 1px rgba(60, 64, 67, 0.15);\n",
              "      fill: #174EA6;\n",
              "    }\n",
              "\n",
              "    .colab-df-buttons div {\n",
              "      margin-bottom: 4px;\n",
              "    }\n",
              "\n",
              "    [theme=dark] .colab-df-convert {\n",
              "      background-color: #3B4455;\n",
              "      fill: #D2E3FC;\n",
              "    }\n",
              "\n",
              "    [theme=dark] .colab-df-convert:hover {\n",
              "      background-color: #434B5C;\n",
              "      box-shadow: 0px 1px 3px 1px rgba(0, 0, 0, 0.15);\n",
              "      filter: drop-shadow(0px 1px 2px rgba(0, 0, 0, 0.3));\n",
              "      fill: #FFFFFF;\n",
              "    }\n",
              "  </style>\n",
              "\n",
              "    <script>\n",
              "      const buttonEl =\n",
              "        document.querySelector('#df-3acac9bc-f4d3-4b27-8fc8-081b9a112c91 button.colab-df-convert');\n",
              "      buttonEl.style.display =\n",
              "        google.colab.kernel.accessAllowed ? 'block' : 'none';\n",
              "\n",
              "      async function convertToInteractive(key) {\n",
              "        const element = document.querySelector('#df-3acac9bc-f4d3-4b27-8fc8-081b9a112c91');\n",
              "        const dataTable =\n",
              "          await google.colab.kernel.invokeFunction('convertToInteractive',\n",
              "                                                    [key], {});\n",
              "        if (!dataTable) return;\n",
              "\n",
              "        const docLinkHtml = 'Like what you see? Visit the ' +\n",
              "          '<a target=\"_blank\" href=https://colab.research.google.com/notebooks/data_table.ipynb>data table notebook</a>'\n",
              "          + ' to learn more about interactive tables.';\n",
              "        element.innerHTML = '';\n",
              "        dataTable['output_type'] = 'display_data';\n",
              "        await google.colab.output.renderOutput(dataTable, element);\n",
              "        const docLink = document.createElement('div');\n",
              "        docLink.innerHTML = docLinkHtml;\n",
              "        element.appendChild(docLink);\n",
              "      }\n",
              "    </script>\n",
              "  </div>\n",
              "\n",
              "\n",
              "    </div>\n",
              "  </div>\n"
            ],
            "application/vnd.google.colaboratory.intrinsic+json": {
              "type": "dataframe",
              "variable_name": "cumulative_data_comp"
            }
          },
          "metadata": {},
          "execution_count": 12
        }
      ],
      "source": [
        "cumulative_data_comp.head(1)"
      ]
    },
    {
      "cell_type": "code",
      "execution_count": 13,
      "id": "4b1757b8-6935-4f7f-a072-71b10196bd05",
      "metadata": {
        "tags": [],
        "id": "4b1757b8-6935-4f7f-a072-71b10196bd05"
      },
      "outputs": [],
      "source": [
        "combined_df = pd.concat([cumulative_data, cumulative_data_comp], axis = 1)"
      ]
    },
    {
      "cell_type": "code",
      "execution_count": 14,
      "id": "fc96cabe-5265-4bb6-9d5f-0f6a0529b131",
      "metadata": {
        "tags": [],
        "colab": {
          "base_uri": "https://localhost:8080/",
          "height": 147
        },
        "id": "fc96cabe-5265-4bb6-9d5f-0f6a0529b131",
        "outputId": "0dfcdd3f-8475-4071-f8b2-4aa0be8458dc"
      },
      "outputs": [
        {
          "output_type": "execute_result",
          "data": {
            "text/plain": [
              "        isic_id  age_approx   sex  clin_size_long_diam_mm  \\\n",
              "0  ISIC_0015670        60.0  male                    3.04   \n",
              "\n",
              "   tbp_lv_area_perim_ratio  tbp_lv_color_std_mean  tbp_lv_eccentricity  \\\n",
              "0                 27.47617                    0.0             0.901302   \n",
              "\n",
              "     tbp_lv_location    tbp_lv_x    tbp_lv_y  ...  \\\n",
              "0  Right Leg - Upper -182.703552  613.493652  ...   \n",
              "\n",
              "   tbp_lv_location_Right Leg - Lower  tbp_lv_location_Right Leg - Upper  \\\n",
              "0                              False                               True   \n",
              "\n",
              "   tbp_lv_location_Torso Back  tbp_lv_location_Torso Back Bottom Third  \\\n",
              "0                       False                                    False   \n",
              "\n",
              "   tbp_lv_location_Torso Back Middle Third  \\\n",
              "0                                    False   \n",
              "\n",
              "   tbp_lv_location_Torso Back Top Third  tbp_lv_location_Torso Front  \\\n",
              "0                                 False                        False   \n",
              "\n",
              "   tbp_lv_location_Torso Front Bottom Half  \\\n",
              "0                                    False   \n",
              "\n",
              "   tbp_lv_location_Torso Front Top Half  tbp_lv_location_Unknown  \n",
              "0                                 False                    False  \n",
              "\n",
              "[1 rows x 33 columns]"
            ],
            "text/html": [
              "\n",
              "  <div id=\"df-3b367c12-576b-456e-865e-5b5f37420e1f\" class=\"colab-df-container\">\n",
              "    <div>\n",
              "<style scoped>\n",
              "    .dataframe tbody tr th:only-of-type {\n",
              "        vertical-align: middle;\n",
              "    }\n",
              "\n",
              "    .dataframe tbody tr th {\n",
              "        vertical-align: top;\n",
              "    }\n",
              "\n",
              "    .dataframe thead th {\n",
              "        text-align: right;\n",
              "    }\n",
              "</style>\n",
              "<table border=\"1\" class=\"dataframe\">\n",
              "  <thead>\n",
              "    <tr style=\"text-align: right;\">\n",
              "      <th></th>\n",
              "      <th>isic_id</th>\n",
              "      <th>age_approx</th>\n",
              "      <th>sex</th>\n",
              "      <th>clin_size_long_diam_mm</th>\n",
              "      <th>tbp_lv_area_perim_ratio</th>\n",
              "      <th>tbp_lv_color_std_mean</th>\n",
              "      <th>tbp_lv_eccentricity</th>\n",
              "      <th>tbp_lv_location</th>\n",
              "      <th>tbp_lv_x</th>\n",
              "      <th>tbp_lv_y</th>\n",
              "      <th>...</th>\n",
              "      <th>tbp_lv_location_Right Leg - Lower</th>\n",
              "      <th>tbp_lv_location_Right Leg - Upper</th>\n",
              "      <th>tbp_lv_location_Torso Back</th>\n",
              "      <th>tbp_lv_location_Torso Back Bottom Third</th>\n",
              "      <th>tbp_lv_location_Torso Back Middle Third</th>\n",
              "      <th>tbp_lv_location_Torso Back Top Third</th>\n",
              "      <th>tbp_lv_location_Torso Front</th>\n",
              "      <th>tbp_lv_location_Torso Front Bottom Half</th>\n",
              "      <th>tbp_lv_location_Torso Front Top Half</th>\n",
              "      <th>tbp_lv_location_Unknown</th>\n",
              "    </tr>\n",
              "  </thead>\n",
              "  <tbody>\n",
              "    <tr>\n",
              "      <th>0</th>\n",
              "      <td>ISIC_0015670</td>\n",
              "      <td>60.0</td>\n",
              "      <td>male</td>\n",
              "      <td>3.04</td>\n",
              "      <td>27.47617</td>\n",
              "      <td>0.0</td>\n",
              "      <td>0.901302</td>\n",
              "      <td>Right Leg - Upper</td>\n",
              "      <td>-182.703552</td>\n",
              "      <td>613.493652</td>\n",
              "      <td>...</td>\n",
              "      <td>False</td>\n",
              "      <td>True</td>\n",
              "      <td>False</td>\n",
              "      <td>False</td>\n",
              "      <td>False</td>\n",
              "      <td>False</td>\n",
              "      <td>False</td>\n",
              "      <td>False</td>\n",
              "      <td>False</td>\n",
              "      <td>False</td>\n",
              "    </tr>\n",
              "  </tbody>\n",
              "</table>\n",
              "<p>1 rows × 33 columns</p>\n",
              "</div>\n",
              "    <div class=\"colab-df-buttons\">\n",
              "\n",
              "  <div class=\"colab-df-container\">\n",
              "    <button class=\"colab-df-convert\" onclick=\"convertToInteractive('df-3b367c12-576b-456e-865e-5b5f37420e1f')\"\n",
              "            title=\"Convert this dataframe to an interactive table.\"\n",
              "            style=\"display:none;\">\n",
              "\n",
              "  <svg xmlns=\"http://www.w3.org/2000/svg\" height=\"24px\" viewBox=\"0 -960 960 960\">\n",
              "    <path d=\"M120-120v-720h720v720H120Zm60-500h600v-160H180v160Zm220 220h160v-160H400v160Zm0 220h160v-160H400v160ZM180-400h160v-160H180v160Zm440 0h160v-160H620v160ZM180-180h160v-160H180v160Zm440 0h160v-160H620v160Z\"/>\n",
              "  </svg>\n",
              "    </button>\n",
              "\n",
              "  <style>\n",
              "    .colab-df-container {\n",
              "      display:flex;\n",
              "      gap: 12px;\n",
              "    }\n",
              "\n",
              "    .colab-df-convert {\n",
              "      background-color: #E8F0FE;\n",
              "      border: none;\n",
              "      border-radius: 50%;\n",
              "      cursor: pointer;\n",
              "      display: none;\n",
              "      fill: #1967D2;\n",
              "      height: 32px;\n",
              "      padding: 0 0 0 0;\n",
              "      width: 32px;\n",
              "    }\n",
              "\n",
              "    .colab-df-convert:hover {\n",
              "      background-color: #E2EBFA;\n",
              "      box-shadow: 0px 1px 2px rgba(60, 64, 67, 0.3), 0px 1px 3px 1px rgba(60, 64, 67, 0.15);\n",
              "      fill: #174EA6;\n",
              "    }\n",
              "\n",
              "    .colab-df-buttons div {\n",
              "      margin-bottom: 4px;\n",
              "    }\n",
              "\n",
              "    [theme=dark] .colab-df-convert {\n",
              "      background-color: #3B4455;\n",
              "      fill: #D2E3FC;\n",
              "    }\n",
              "\n",
              "    [theme=dark] .colab-df-convert:hover {\n",
              "      background-color: #434B5C;\n",
              "      box-shadow: 0px 1px 3px 1px rgba(0, 0, 0, 0.15);\n",
              "      filter: drop-shadow(0px 1px 2px rgba(0, 0, 0, 0.3));\n",
              "      fill: #FFFFFF;\n",
              "    }\n",
              "  </style>\n",
              "\n",
              "    <script>\n",
              "      const buttonEl =\n",
              "        document.querySelector('#df-3b367c12-576b-456e-865e-5b5f37420e1f button.colab-df-convert');\n",
              "      buttonEl.style.display =\n",
              "        google.colab.kernel.accessAllowed ? 'block' : 'none';\n",
              "\n",
              "      async function convertToInteractive(key) {\n",
              "        const element = document.querySelector('#df-3b367c12-576b-456e-865e-5b5f37420e1f');\n",
              "        const dataTable =\n",
              "          await google.colab.kernel.invokeFunction('convertToInteractive',\n",
              "                                                    [key], {});\n",
              "        if (!dataTable) return;\n",
              "\n",
              "        const docLinkHtml = 'Like what you see? Visit the ' +\n",
              "          '<a target=\"_blank\" href=https://colab.research.google.com/notebooks/data_table.ipynb>data table notebook</a>'\n",
              "          + ' to learn more about interactive tables.';\n",
              "        element.innerHTML = '';\n",
              "        dataTable['output_type'] = 'display_data';\n",
              "        await google.colab.output.renderOutput(dataTable, element);\n",
              "        const docLink = document.createElement('div');\n",
              "        docLink.innerHTML = docLinkHtml;\n",
              "        element.appendChild(docLink);\n",
              "      }\n",
              "    </script>\n",
              "  </div>\n",
              "\n",
              "\n",
              "    </div>\n",
              "  </div>\n"
            ],
            "application/vnd.google.colaboratory.intrinsic+json": {
              "type": "dataframe",
              "variable_name": "combined_df"
            }
          },
          "metadata": {},
          "execution_count": 14
        }
      ],
      "source": [
        "combined_df.head(1)"
      ]
    },
    {
      "cell_type": "code",
      "execution_count": 15,
      "id": "3d6b3c63-5ffd-42f0-b233-da8c5d4e0fdc",
      "metadata": {
        "tags": [],
        "id": "3d6b3c63-5ffd-42f0-b233-da8c5d4e0fdc"
      },
      "outputs": [],
      "source": [
        "combined_df.drop(columns = ['sex', 'tbp_lv_location'], axis = 1 , inplace = True)"
      ]
    },
    {
      "cell_type": "code",
      "execution_count": 16,
      "id": "71207ed9-62b4-481b-9446-69037e7412db",
      "metadata": {
        "tags": [],
        "colab": {
          "base_uri": "https://localhost:8080/",
          "height": 147
        },
        "id": "71207ed9-62b4-481b-9446-69037e7412db",
        "outputId": "1e5ab8af-5c85-4b41-eb61-7ee98a3e4bbc"
      },
      "outputs": [
        {
          "output_type": "execute_result",
          "data": {
            "text/plain": [
              "        isic_id  age_approx  clin_size_long_diam_mm  tbp_lv_area_perim_ratio  \\\n",
              "0  ISIC_0015670        60.0                    3.04                 27.47617   \n",
              "\n",
              "   tbp_lv_color_std_mean  tbp_lv_eccentricity    tbp_lv_x    tbp_lv_y  \\\n",
              "0                    0.0             0.901302 -182.703552  613.493652   \n",
              "\n",
              "    tbp_lv_z  target  ...  tbp_lv_location_Right Leg - Lower  \\\n",
              "0 -42.427948       0  ...                              False   \n",
              "\n",
              "   tbp_lv_location_Right Leg - Upper  tbp_lv_location_Torso Back  \\\n",
              "0                               True                       False   \n",
              "\n",
              "   tbp_lv_location_Torso Back Bottom Third  \\\n",
              "0                                    False   \n",
              "\n",
              "   tbp_lv_location_Torso Back Middle Third  \\\n",
              "0                                    False   \n",
              "\n",
              "   tbp_lv_location_Torso Back Top Third  tbp_lv_location_Torso Front  \\\n",
              "0                                 False                        False   \n",
              "\n",
              "   tbp_lv_location_Torso Front Bottom Half  \\\n",
              "0                                    False   \n",
              "\n",
              "   tbp_lv_location_Torso Front Top Half  tbp_lv_location_Unknown  \n",
              "0                                 False                    False  \n",
              "\n",
              "[1 rows x 31 columns]"
            ],
            "text/html": [
              "\n",
              "  <div id=\"df-a16e982f-4607-43a6-9693-b28baa754aab\" class=\"colab-df-container\">\n",
              "    <div>\n",
              "<style scoped>\n",
              "    .dataframe tbody tr th:only-of-type {\n",
              "        vertical-align: middle;\n",
              "    }\n",
              "\n",
              "    .dataframe tbody tr th {\n",
              "        vertical-align: top;\n",
              "    }\n",
              "\n",
              "    .dataframe thead th {\n",
              "        text-align: right;\n",
              "    }\n",
              "</style>\n",
              "<table border=\"1\" class=\"dataframe\">\n",
              "  <thead>\n",
              "    <tr style=\"text-align: right;\">\n",
              "      <th></th>\n",
              "      <th>isic_id</th>\n",
              "      <th>age_approx</th>\n",
              "      <th>clin_size_long_diam_mm</th>\n",
              "      <th>tbp_lv_area_perim_ratio</th>\n",
              "      <th>tbp_lv_color_std_mean</th>\n",
              "      <th>tbp_lv_eccentricity</th>\n",
              "      <th>tbp_lv_x</th>\n",
              "      <th>tbp_lv_y</th>\n",
              "      <th>tbp_lv_z</th>\n",
              "      <th>target</th>\n",
              "      <th>...</th>\n",
              "      <th>tbp_lv_location_Right Leg - Lower</th>\n",
              "      <th>tbp_lv_location_Right Leg - Upper</th>\n",
              "      <th>tbp_lv_location_Torso Back</th>\n",
              "      <th>tbp_lv_location_Torso Back Bottom Third</th>\n",
              "      <th>tbp_lv_location_Torso Back Middle Third</th>\n",
              "      <th>tbp_lv_location_Torso Back Top Third</th>\n",
              "      <th>tbp_lv_location_Torso Front</th>\n",
              "      <th>tbp_lv_location_Torso Front Bottom Half</th>\n",
              "      <th>tbp_lv_location_Torso Front Top Half</th>\n",
              "      <th>tbp_lv_location_Unknown</th>\n",
              "    </tr>\n",
              "  </thead>\n",
              "  <tbody>\n",
              "    <tr>\n",
              "      <th>0</th>\n",
              "      <td>ISIC_0015670</td>\n",
              "      <td>60.0</td>\n",
              "      <td>3.04</td>\n",
              "      <td>27.47617</td>\n",
              "      <td>0.0</td>\n",
              "      <td>0.901302</td>\n",
              "      <td>-182.703552</td>\n",
              "      <td>613.493652</td>\n",
              "      <td>-42.427948</td>\n",
              "      <td>0</td>\n",
              "      <td>...</td>\n",
              "      <td>False</td>\n",
              "      <td>True</td>\n",
              "      <td>False</td>\n",
              "      <td>False</td>\n",
              "      <td>False</td>\n",
              "      <td>False</td>\n",
              "      <td>False</td>\n",
              "      <td>False</td>\n",
              "      <td>False</td>\n",
              "      <td>False</td>\n",
              "    </tr>\n",
              "  </tbody>\n",
              "</table>\n",
              "<p>1 rows × 31 columns</p>\n",
              "</div>\n",
              "    <div class=\"colab-df-buttons\">\n",
              "\n",
              "  <div class=\"colab-df-container\">\n",
              "    <button class=\"colab-df-convert\" onclick=\"convertToInteractive('df-a16e982f-4607-43a6-9693-b28baa754aab')\"\n",
              "            title=\"Convert this dataframe to an interactive table.\"\n",
              "            style=\"display:none;\">\n",
              "\n",
              "  <svg xmlns=\"http://www.w3.org/2000/svg\" height=\"24px\" viewBox=\"0 -960 960 960\">\n",
              "    <path d=\"M120-120v-720h720v720H120Zm60-500h600v-160H180v160Zm220 220h160v-160H400v160Zm0 220h160v-160H400v160ZM180-400h160v-160H180v160Zm440 0h160v-160H620v160ZM180-180h160v-160H180v160Zm440 0h160v-160H620v160Z\"/>\n",
              "  </svg>\n",
              "    </button>\n",
              "\n",
              "  <style>\n",
              "    .colab-df-container {\n",
              "      display:flex;\n",
              "      gap: 12px;\n",
              "    }\n",
              "\n",
              "    .colab-df-convert {\n",
              "      background-color: #E8F0FE;\n",
              "      border: none;\n",
              "      border-radius: 50%;\n",
              "      cursor: pointer;\n",
              "      display: none;\n",
              "      fill: #1967D2;\n",
              "      height: 32px;\n",
              "      padding: 0 0 0 0;\n",
              "      width: 32px;\n",
              "    }\n",
              "\n",
              "    .colab-df-convert:hover {\n",
              "      background-color: #E2EBFA;\n",
              "      box-shadow: 0px 1px 2px rgba(60, 64, 67, 0.3), 0px 1px 3px 1px rgba(60, 64, 67, 0.15);\n",
              "      fill: #174EA6;\n",
              "    }\n",
              "\n",
              "    .colab-df-buttons div {\n",
              "      margin-bottom: 4px;\n",
              "    }\n",
              "\n",
              "    [theme=dark] .colab-df-convert {\n",
              "      background-color: #3B4455;\n",
              "      fill: #D2E3FC;\n",
              "    }\n",
              "\n",
              "    [theme=dark] .colab-df-convert:hover {\n",
              "      background-color: #434B5C;\n",
              "      box-shadow: 0px 1px 3px 1px rgba(0, 0, 0, 0.15);\n",
              "      filter: drop-shadow(0px 1px 2px rgba(0, 0, 0, 0.3));\n",
              "      fill: #FFFFFF;\n",
              "    }\n",
              "  </style>\n",
              "\n",
              "    <script>\n",
              "      const buttonEl =\n",
              "        document.querySelector('#df-a16e982f-4607-43a6-9693-b28baa754aab button.colab-df-convert');\n",
              "      buttonEl.style.display =\n",
              "        google.colab.kernel.accessAllowed ? 'block' : 'none';\n",
              "\n",
              "      async function convertToInteractive(key) {\n",
              "        const element = document.querySelector('#df-a16e982f-4607-43a6-9693-b28baa754aab');\n",
              "        const dataTable =\n",
              "          await google.colab.kernel.invokeFunction('convertToInteractive',\n",
              "                                                    [key], {});\n",
              "        if (!dataTable) return;\n",
              "\n",
              "        const docLinkHtml = 'Like what you see? Visit the ' +\n",
              "          '<a target=\"_blank\" href=https://colab.research.google.com/notebooks/data_table.ipynb>data table notebook</a>'\n",
              "          + ' to learn more about interactive tables.';\n",
              "        element.innerHTML = '';\n",
              "        dataTable['output_type'] = 'display_data';\n",
              "        await google.colab.output.renderOutput(dataTable, element);\n",
              "        const docLink = document.createElement('div');\n",
              "        docLink.innerHTML = docLinkHtml;\n",
              "        element.appendChild(docLink);\n",
              "      }\n",
              "    </script>\n",
              "  </div>\n",
              "\n",
              "\n",
              "    </div>\n",
              "  </div>\n"
            ],
            "application/vnd.google.colaboratory.intrinsic+json": {
              "type": "dataframe",
              "variable_name": "combined_df"
            }
          },
          "metadata": {},
          "execution_count": 16
        }
      ],
      "source": [
        "combined_df.head(1)"
      ]
    },
    {
      "cell_type": "code",
      "execution_count": 17,
      "id": "e383b5e8-94b1-4e02-83c5-12f99426a5a6",
      "metadata": {
        "tags": [],
        "id": "e383b5e8-94b1-4e02-83c5-12f99426a5a6"
      },
      "outputs": [],
      "source": [
        "td_pos = combined_df[cumulative_data['target'] == 1]\n",
        "td_neg = combined_df[cumulative_data['target'] == 0]"
      ]
    },
    {
      "cell_type": "code",
      "execution_count": 18,
      "id": "79fc1034-1bd5-45a9-8119-acadec4039e9",
      "metadata": {
        "tags": [],
        "colab": {
          "base_uri": "https://localhost:8080/"
        },
        "id": "79fc1034-1bd5-45a9-8119-acadec4039e9",
        "outputId": "c8b21590-b2de-4d24-ce53-3ee496040586"
      },
      "outputs": [
        {
          "output_type": "execute_result",
          "data": {
            "text/plain": [
              "((381, 31), (387274, 31))"
            ]
          },
          "metadata": {},
          "execution_count": 18
        }
      ],
      "source": [
        "td_pos.shape, td_neg.shape"
      ]
    },
    {
      "cell_type": "code",
      "execution_count": 19,
      "id": "4ca248a2-4ef2-459a-9353-779e663e009d",
      "metadata": {
        "tags": [],
        "id": "4ca248a2-4ef2-459a-9353-779e663e009d"
      },
      "outputs": [],
      "source": [
        "shuffle_td_neg = td_neg.sample(random_state = 42, n = 381)"
      ]
    },
    {
      "cell_type": "code",
      "execution_count": 20,
      "id": "2aac37e6-19dd-495a-ac89-36dd5c51ddc6",
      "metadata": {
        "tags": [],
        "colab": {
          "base_uri": "https://localhost:8080/"
        },
        "id": "2aac37e6-19dd-495a-ac89-36dd5c51ddc6",
        "outputId": "1ca33f81-b2b4-4e47-bb61-aa944bc6562d"
      },
      "outputs": [
        {
          "output_type": "execute_result",
          "data": {
            "text/plain": [
              "(762, 31)"
            ]
          },
          "metadata": {},
          "execution_count": 20
        }
      ],
      "source": [
        "td_complete = pd.concat([td_pos, shuffle_td_neg])\n",
        "td_complete.shape"
      ]
    },
    {
      "cell_type": "markdown",
      "id": "7f40c4eb-0331-454b-addf-13da1460acd5",
      "metadata": {
        "id": "7f40c4eb-0331-454b-addf-13da1460acd5"
      },
      "source": [
        "# Transforming dataset for data model"
      ]
    },
    {
      "cell_type": "code",
      "execution_count": 21,
      "id": "e1c046a6-99d2-4e88-9354-5bc861d86153",
      "metadata": {
        "tags": [],
        "id": "e1c046a6-99d2-4e88-9354-5bc861d86153"
      },
      "outputs": [],
      "source": [
        "data_model_data = td_complete.drop('isic_id', axis = 1) #Selecting required columns"
      ]
    },
    {
      "cell_type": "code",
      "execution_count": 22,
      "id": "cdc14665-d7fd-4feb-beb8-f40c7f635ff3",
      "metadata": {
        "tags": [],
        "id": "cdc14665-d7fd-4feb-beb8-f40c7f635ff3"
      },
      "outputs": [],
      "source": [
        "data_model_data_comp = pd.get_dummies(data_model_data, drop_first = True)"
      ]
    },
    {
      "cell_type": "code",
      "execution_count": 23,
      "id": "b88152da-020f-4471-8b1c-54f855c2cb32",
      "metadata": {
        "tags": [],
        "id": "b88152da-020f-4471-8b1c-54f855c2cb32"
      },
      "outputs": [],
      "source": [
        "if hasattr(data_model, 'feature_names_in_'):\n",
        "    feature_names = data_model.feature_names_in_"
      ]
    },
    {
      "cell_type": "code",
      "execution_count": 24,
      "id": "655718b2-a43a-4049-98cf-d7cf732b7495",
      "metadata": {
        "tags": [],
        "id": "655718b2-a43a-4049-98cf-d7cf732b7495"
      },
      "outputs": [],
      "source": [
        "for entry in data_model_data_comp:\n",
        "    if entry not in feature_names and entry != 'target':\n",
        "        data_model_data_comp.drop(entry, axis = 1, inplace = True)"
      ]
    },
    {
      "cell_type": "code",
      "execution_count": 25,
      "id": "bc6eeaa7-6ad7-4ecd-bfe4-fe600077945c",
      "metadata": {
        "tags": [],
        "colab": {
          "base_uri": "https://localhost:8080/"
        },
        "id": "bc6eeaa7-6ad7-4ecd-bfe4-fe600077945c",
        "outputId": "c4df68ba-c65c-412d-89e5-84d89ab91ce7"
      },
      "outputs": [
        {
          "output_type": "execute_result",
          "data": {
            "text/plain": [
              "(28, 29)"
            ]
          },
          "metadata": {},
          "execution_count": 25
        }
      ],
      "source": [
        "len(feature_names), len(data_model_data_comp.columns)"
      ]
    },
    {
      "cell_type": "markdown",
      "id": "8256d576-3e9d-4f74-aa87-9a09d7c22d90",
      "metadata": {
        "id": "8256d576-3e9d-4f74-aa87-9a09d7c22d90"
      },
      "source": [
        "#### The extra is target"
      ]
    },
    {
      "cell_type": "markdown",
      "id": "0d6fbcfd-9c18-48a4-ab73-cc2fcddd94db",
      "metadata": {
        "id": "0d6fbcfd-9c18-48a4-ab73-cc2fcddd94db"
      },
      "source": [
        "# Transforming dataset for Image Model"
      ]
    },
    {
      "cell_type": "code",
      "execution_count": 26,
      "id": "e0b85dd0-e946-446b-8455-d98da1cb3154",
      "metadata": {
        "tags": [],
        "id": "e0b85dd0-e946-446b-8455-d98da1cb3154"
      },
      "outputs": [],
      "source": [
        "image_data = td_complete[['isic_id', 'target']]"
      ]
    },
    {
      "cell_type": "code",
      "execution_count": 27,
      "id": "c67d9d46-d03a-44f6-9cbd-09c463a9adf2",
      "metadata": {
        "tags": [],
        "id": "c67d9d46-d03a-44f6-9cbd-09c463a9adf2"
      },
      "outputs": [],
      "source": [
        "import h5py\n",
        "from PIL import Image\n",
        "import numpy as np, pandas as pd\n",
        "import os\n",
        "import io\n",
        "from IPython.display import display\n",
        "from torch.utils.data import DataLoader, Dataset, TensorDataset"
      ]
    },
    {
      "cell_type": "code",
      "execution_count": 28,
      "id": "bc93bec1-fab9-42aa-9c74-654113980fd8",
      "metadata": {
        "tags": [],
        "id": "bc93bec1-fab9-42aa-9c74-654113980fd8"
      },
      "outputs": [],
      "source": [
        "\n",
        "\n",
        "# Define the path to your .hdf5 dataset file\n",
        "hdf5_file_path = \"/content/drive/MyDrive/AIS_Pro_Data/train-image.hdf5\"\n",
        "\n",
        "# Define the target image size (forexample 224x224 for ResNet)\n",
        "target_size = (224, 224)"
      ]
    },
    {
      "cell_type": "code",
      "execution_count": 29,
      "id": "58ae9153-d1e3-4e39-aafc-300456435136",
      "metadata": {
        "tags": [],
        "id": "58ae9153-d1e3-4e39-aafc-300456435136"
      },
      "outputs": [],
      "source": [
        "hdf5_file = h5py.File(hdf5_file_path, 'r')"
      ]
    },
    {
      "cell_type": "code",
      "execution_count": 30,
      "id": "057fe152-d9d9-4c3a-843f-98ffc6a44c02",
      "metadata": {
        "tags": [],
        "id": "057fe152-d9d9-4c3a-843f-98ffc6a44c02"
      },
      "outputs": [],
      "source": [
        "images = []\n",
        "# Reading image data and resizing the image so it fits resnet's required size\n",
        "\n",
        "def image_processor(image_name):\n",
        "    image_data = hdf5_file[image_name][()]\n",
        "    image = Image.open(io.BytesIO(image_data))\n",
        "    image_2 = image.resize(target_size)\n",
        "    return image_2"
      ]
    },
    {
      "cell_type": "code",
      "execution_count": 31,
      "id": "9bee8f97-ccf7-4de0-9127-3be9a4d751f2",
      "metadata": {
        "tags": [],
        "id": "9bee8f97-ccf7-4de0-9127-3be9a4d751f2"
      },
      "outputs": [],
      "source": [
        "# Accessing images using the image names from td_complete\n",
        "images.clear()\n",
        "for i in range(image_data.shape[0]):\n",
        "    images.append(image_processor(image_data['isic_id'].iloc[i]))"
      ]
    },
    {
      "cell_type": "markdown",
      "id": "e894416e-aebe-4c71-b53e-9a781fe542b6",
      "metadata": {
        "id": "e894416e-aebe-4c71-b53e-9a781fe542b6"
      },
      "source": [
        "# Prob Pred for Data Model"
      ]
    },
    {
      "cell_type": "code",
      "execution_count": 32,
      "id": "4c87c408-a05e-4f95-8c41-b8b3da7c1d2f",
      "metadata": {
        "tags": [],
        "id": "4c87c408-a05e-4f95-8c41-b8b3da7c1d2f"
      },
      "outputs": [],
      "source": [
        "X = data_model_data_comp.drop('target', axis =1)\n",
        "y = data_model_data_comp['target']"
      ]
    },
    {
      "cell_type": "code",
      "execution_count": 33,
      "id": "0f2dd858-f878-4498-839e-e766d6fd4c93",
      "metadata": {
        "tags": [],
        "id": "0f2dd858-f878-4498-839e-e766d6fd4c93"
      },
      "outputs": [],
      "source": [
        "y_data_prob = data_model.predict_proba(X)"
      ]
    },
    {
      "cell_type": "code",
      "execution_count": null,
      "id": "5a1d78c5-0353-4a76-8046-a80a30cf49f7",
      "metadata": {
        "id": "5a1d78c5-0353-4a76-8046-a80a30cf49f7"
      },
      "outputs": [],
      "source": []
    },
    {
      "cell_type": "markdown",
      "id": "68903dd3-6b85-483e-8f62-f5e3c4eddce6",
      "metadata": {
        "id": "68903dd3-6b85-483e-8f62-f5e3c4eddce6"
      },
      "source": [
        "# Prob Pred for Image Model"
      ]
    },
    {
      "cell_type": "code",
      "execution_count": 64,
      "id": "2fccad45-35fe-4bd0-bea3-513dd2bff8c8",
      "metadata": {
        "tags": [],
        "id": "2fccad45-35fe-4bd0-bea3-513dd2bff8c8"
      },
      "outputs": [],
      "source": [
        "Xi = images\n",
        "yi = image_data['target']"
      ]
    },
    {
      "cell_type": "code",
      "execution_count": 65,
      "id": "a2f089de-4b3e-4be6-a47f-4fcd17dae903",
      "metadata": {
        "tags": [],
        "id": "a2f089de-4b3e-4be6-a47f-4fcd17dae903"
      },
      "outputs": [],
      "source": [
        "from torchvision import transforms\n",
        "import torch\n",
        "\n",
        "# Define transformations for your images to match ResNet input requirements\n",
        "transform = transforms.Compose([\n",
        "    transforms.Resize((224, 224)),  # ResNet requires 224x224 input size\n",
        "    transforms.ToTensor(),  # Convert to a tensor\n",
        "    transforms.Normalize(mean=[0.485, 0.456, 0.406], std=[0.229, 0.224, 0.225])  # Normalize with ImageNet stats\n",
        "])\n",
        "\n",
        "# Apply transformation to each image in your list\n",
        "X_transformed = [transform(image) for image in Xi]\n",
        "\n",
        "# Stack the list into a single tensor\n",
        "X_tensor = torch.stack(X_transformed)\n"
      ]
    },
    {
      "cell_type": "code",
      "execution_count": 66,
      "id": "0c116bc1-d654-45d4-999f-ea28b71d1ec4",
      "metadata": {
        "tags": [],
        "id": "0c116bc1-d654-45d4-999f-ea28b71d1ec4"
      },
      "outputs": [],
      "source": [
        "from torch.utils.data import TensorDataset, DataLoader\n",
        "\n",
        "# Convert target labels into a tensor\n",
        "#y_tensor = torch.tensor(y_test.values)\n",
        "y_tensor = torch.tensor(yi.values)\n",
        "# Create a dataset\n",
        "dataset = TensorDataset(X_tensor, y_tensor)\n",
        "\n",
        "# Create a DataLoader for batching\n",
        "dataloader = DataLoader(dataset, batch_size=32, shuffle=True)\n"
      ]
    },
    {
      "cell_type": "code",
      "execution_count": 67,
      "id": "bf45b03a-47f0-4d7c-acad-e89e8e6d503c",
      "metadata": {
        "tags": [],
        "colab": {
          "base_uri": "https://localhost:8080/"
        },
        "id": "bf45b03a-47f0-4d7c-acad-e89e8e6d503c",
        "outputId": "9e8276d7-8cff-43d0-8d43-7a74c8a07fac"
      },
      "outputs": [
        {
          "output_type": "execute_result",
          "data": {
            "text/plain": [
              "ResNet(\n",
              "  (conv1): Conv2d(3, 64, kernel_size=(7, 7), stride=(2, 2), padding=(3, 3), bias=False)\n",
              "  (bn1): BatchNorm2d(64, eps=1e-05, momentum=0.1, affine=True, track_running_stats=True)\n",
              "  (relu): ReLU(inplace=True)\n",
              "  (maxpool): MaxPool2d(kernel_size=3, stride=2, padding=1, dilation=1, ceil_mode=False)\n",
              "  (layer1): Sequential(\n",
              "    (0): BasicBlock(\n",
              "      (conv1): Conv2d(64, 64, kernel_size=(3, 3), stride=(1, 1), padding=(1, 1), bias=False)\n",
              "      (bn1): BatchNorm2d(64, eps=1e-05, momentum=0.1, affine=True, track_running_stats=True)\n",
              "      (relu): ReLU(inplace=True)\n",
              "      (conv2): Conv2d(64, 64, kernel_size=(3, 3), stride=(1, 1), padding=(1, 1), bias=False)\n",
              "      (bn2): BatchNorm2d(64, eps=1e-05, momentum=0.1, affine=True, track_running_stats=True)\n",
              "    )\n",
              "    (1): BasicBlock(\n",
              "      (conv1): Conv2d(64, 64, kernel_size=(3, 3), stride=(1, 1), padding=(1, 1), bias=False)\n",
              "      (bn1): BatchNorm2d(64, eps=1e-05, momentum=0.1, affine=True, track_running_stats=True)\n",
              "      (relu): ReLU(inplace=True)\n",
              "      (conv2): Conv2d(64, 64, kernel_size=(3, 3), stride=(1, 1), padding=(1, 1), bias=False)\n",
              "      (bn2): BatchNorm2d(64, eps=1e-05, momentum=0.1, affine=True, track_running_stats=True)\n",
              "    )\n",
              "  )\n",
              "  (layer2): Sequential(\n",
              "    (0): BasicBlock(\n",
              "      (conv1): Conv2d(64, 128, kernel_size=(3, 3), stride=(2, 2), padding=(1, 1), bias=False)\n",
              "      (bn1): BatchNorm2d(128, eps=1e-05, momentum=0.1, affine=True, track_running_stats=True)\n",
              "      (relu): ReLU(inplace=True)\n",
              "      (conv2): Conv2d(128, 128, kernel_size=(3, 3), stride=(1, 1), padding=(1, 1), bias=False)\n",
              "      (bn2): BatchNorm2d(128, eps=1e-05, momentum=0.1, affine=True, track_running_stats=True)\n",
              "      (downsample): Sequential(\n",
              "        (0): Conv2d(64, 128, kernel_size=(1, 1), stride=(2, 2), bias=False)\n",
              "        (1): BatchNorm2d(128, eps=1e-05, momentum=0.1, affine=True, track_running_stats=True)\n",
              "      )\n",
              "    )\n",
              "    (1): BasicBlock(\n",
              "      (conv1): Conv2d(128, 128, kernel_size=(3, 3), stride=(1, 1), padding=(1, 1), bias=False)\n",
              "      (bn1): BatchNorm2d(128, eps=1e-05, momentum=0.1, affine=True, track_running_stats=True)\n",
              "      (relu): ReLU(inplace=True)\n",
              "      (conv2): Conv2d(128, 128, kernel_size=(3, 3), stride=(1, 1), padding=(1, 1), bias=False)\n",
              "      (bn2): BatchNorm2d(128, eps=1e-05, momentum=0.1, affine=True, track_running_stats=True)\n",
              "    )\n",
              "  )\n",
              "  (layer3): Sequential(\n",
              "    (0): BasicBlock(\n",
              "      (conv1): Conv2d(128, 256, kernel_size=(3, 3), stride=(2, 2), padding=(1, 1), bias=False)\n",
              "      (bn1): BatchNorm2d(256, eps=1e-05, momentum=0.1, affine=True, track_running_stats=True)\n",
              "      (relu): ReLU(inplace=True)\n",
              "      (conv2): Conv2d(256, 256, kernel_size=(3, 3), stride=(1, 1), padding=(1, 1), bias=False)\n",
              "      (bn2): BatchNorm2d(256, eps=1e-05, momentum=0.1, affine=True, track_running_stats=True)\n",
              "      (downsample): Sequential(\n",
              "        (0): Conv2d(128, 256, kernel_size=(1, 1), stride=(2, 2), bias=False)\n",
              "        (1): BatchNorm2d(256, eps=1e-05, momentum=0.1, affine=True, track_running_stats=True)\n",
              "      )\n",
              "    )\n",
              "    (1): BasicBlock(\n",
              "      (conv1): Conv2d(256, 256, kernel_size=(3, 3), stride=(1, 1), padding=(1, 1), bias=False)\n",
              "      (bn1): BatchNorm2d(256, eps=1e-05, momentum=0.1, affine=True, track_running_stats=True)\n",
              "      (relu): ReLU(inplace=True)\n",
              "      (conv2): Conv2d(256, 256, kernel_size=(3, 3), stride=(1, 1), padding=(1, 1), bias=False)\n",
              "      (bn2): BatchNorm2d(256, eps=1e-05, momentum=0.1, affine=True, track_running_stats=True)\n",
              "    )\n",
              "  )\n",
              "  (layer4): Sequential(\n",
              "    (0): BasicBlock(\n",
              "      (conv1): Conv2d(256, 512, kernel_size=(3, 3), stride=(2, 2), padding=(1, 1), bias=False)\n",
              "      (bn1): BatchNorm2d(512, eps=1e-05, momentum=0.1, affine=True, track_running_stats=True)\n",
              "      (relu): ReLU(inplace=True)\n",
              "      (conv2): Conv2d(512, 512, kernel_size=(3, 3), stride=(1, 1), padding=(1, 1), bias=False)\n",
              "      (bn2): BatchNorm2d(512, eps=1e-05, momentum=0.1, affine=True, track_running_stats=True)\n",
              "      (downsample): Sequential(\n",
              "        (0): Conv2d(256, 512, kernel_size=(1, 1), stride=(2, 2), bias=False)\n",
              "        (1): BatchNorm2d(512, eps=1e-05, momentum=0.1, affine=True, track_running_stats=True)\n",
              "      )\n",
              "    )\n",
              "    (1): BasicBlock(\n",
              "      (conv1): Conv2d(512, 512, kernel_size=(3, 3), stride=(1, 1), padding=(1, 1), bias=False)\n",
              "      (bn1): BatchNorm2d(512, eps=1e-05, momentum=0.1, affine=True, track_running_stats=True)\n",
              "      (relu): ReLU(inplace=True)\n",
              "      (conv2): Conv2d(512, 512, kernel_size=(3, 3), stride=(1, 1), padding=(1, 1), bias=False)\n",
              "      (bn2): BatchNorm2d(512, eps=1e-05, momentum=0.1, affine=True, track_running_stats=True)\n",
              "    )\n",
              "  )\n",
              "  (avgpool): AdaptiveAvgPool2d(output_size=(1, 1))\n",
              "  (fc): Linear(in_features=512, out_features=2, bias=True)\n",
              ")"
            ]
          },
          "metadata": {},
          "execution_count": 67
        }
      ],
      "source": [
        "device = torch.device(\"cuda\" if torch.cuda.is_available() else \"cpu\")\n",
        "image_model.to(device)"
      ]
    },
    {
      "cell_type": "code",
      "execution_count": 68,
      "id": "e3f1f414-92a5-4e26-9c4c-5f39a120ab6d",
      "metadata": {
        "tags": [],
        "id": "e3f1f414-92a5-4e26-9c4c-5f39a120ab6d"
      },
      "outputs": [],
      "source": [
        "import numpy as np\n",
        "import torch\n",
        "\n",
        "image_model.eval()\n",
        "y_image_prob = []  # List to store probabilities\n",
        "correct = 0\n",
        "total = 0\n",
        "\n",
        "with torch.no_grad():\n",
        "    for inputs, labels in dataloader:\n",
        "        inputs, labels = inputs.to(device), labels.to(device)\n",
        "\n",
        "        # Get model outputs\n",
        "        outputs = image_model(inputs)\n",
        "\n",
        "        # Apply softmax to get probabilities\n",
        "        probabilities = torch.softmax(outputs, dim=1)  # shape [batch_size, 2]\n",
        "        probabilities = probabilities[:, 1]  # Get probabilities for the positive class\n",
        "\n",
        "        # Collect probabilities\n",
        "        y_image_prob.extend(probabilities.cpu().numpy())  # Add to the list\n",
        "\n",
        "        # Convert probabilities to binary predictions\n",
        "        predicted = (probabilities >= 0.5).float()\n",
        "\n",
        "        # Flatten predicted and labels for comparison\n",
        "        predicted_flat = predicted.view(-1)  # Flatten predicted\n",
        "        labels_flat = labels.view(-1)  # Flatten labels to match\n",
        "\n",
        "        total += labels_flat.size(0)\n",
        "        correct += (predicted_flat == labels_flat).sum().item()  # Compare with actual labels\n",
        "\n",
        "# Print accuracy\n",
        "#print(f\"Accuracy: {100 * correct / total}%\")\n",
        "\n",
        "# Now y_image_prob contains all output probabilities\n",
        "#print(\"Collected probabilities:\", y_image_prob)\n"
      ]
    },
    {
      "cell_type": "code",
      "execution_count": 69,
      "id": "467d091f-9e55-468e-80c1-a58759c2ae3b",
      "metadata": {
        "tags": [],
        "colab": {
          "base_uri": "https://localhost:8080/"
        },
        "id": "467d091f-9e55-468e-80c1-a58759c2ae3b",
        "outputId": "cf553970-f489-450f-e541-69825b71e3f8"
      },
      "outputs": [
        {
          "output_type": "execute_result",
          "data": {
            "text/plain": [
              "(762, 762)"
            ]
          },
          "metadata": {},
          "execution_count": 69
        }
      ],
      "source": [
        "len(y_data_prob), len(y_image_prob)"
      ]
    },
    {
      "cell_type": "markdown",
      "id": "f55c976b-f654-423a-9e71-c51f803212e8",
      "metadata": {
        "id": "f55c976b-f654-423a-9e71-c51f803212e8"
      },
      "source": [
        "# Training Model based on probabilities"
      ]
    },
    {
      "cell_type": "code",
      "execution_count": 40,
      "id": "25d5d9f2-3d4f-4f01-8e64-b704de284aad",
      "metadata": {
        "tags": [],
        "id": "25d5d9f2-3d4f-4f01-8e64-b704de284aad"
      },
      "outputs": [],
      "source": [
        "from sklearn.linear_model import LogisticRegression"
      ]
    },
    {
      "cell_type": "code",
      "execution_count": 41,
      "id": "ff53c7ee-3d75-4646-8da1-2d087ddef405",
      "metadata": {
        "tags": [],
        "id": "ff53c7ee-3d75-4646-8da1-2d087ddef405"
      },
      "outputs": [],
      "source": [
        "lr_model = LogisticRegression()"
      ]
    },
    {
      "cell_type": "code",
      "execution_count": 42,
      "id": "9c48db5f-20da-4d50-9581-a7f4548b62ba",
      "metadata": {
        "tags": [],
        "colab": {
          "base_uri": "https://localhost:8080/"
        },
        "id": "9c48db5f-20da-4d50-9581-a7f4548b62ba",
        "outputId": "e3a5b9c6-6e31-46bc-edd1-43fba303bbf9"
      },
      "outputs": [
        {
          "output_type": "execute_result",
          "data": {
            "text/plain": [
              "(762, 2)"
            ]
          },
          "metadata": {},
          "execution_count": 42
        }
      ],
      "source": [
        "y_data_prob.shape"
      ]
    },
    {
      "cell_type": "code",
      "execution_count": 43,
      "id": "ace9001d-9e65-4864-ba9e-e14daeb6e19b",
      "metadata": {
        "tags": [],
        "colab": {
          "base_uri": "https://localhost:8080/"
        },
        "id": "ace9001d-9e65-4864-ba9e-e14daeb6e19b",
        "outputId": "f01094d6-f370-46c6-c48b-1cafeaebd563"
      },
      "outputs": [
        {
          "output_type": "execute_result",
          "data": {
            "text/plain": [
              "numpy.ndarray"
            ]
          },
          "metadata": {},
          "execution_count": 43
        }
      ],
      "source": [
        "type(y_data_prob)"
      ]
    },
    {
      "cell_type": "code",
      "source": [
        "y_data_prob[0][1]"
      ],
      "metadata": {
        "colab": {
          "base_uri": "https://localhost:8080/"
        },
        "id": "jSwSi5HNv53t",
        "outputId": "28dbf7f6-a713-4814-cf74-a86868fda3d1"
      },
      "id": "jSwSi5HNv53t",
      "execution_count": 48,
      "outputs": [
        {
          "output_type": "execute_result",
          "data": {
            "text/plain": [
              "0.9260746706753619"
            ]
          },
          "metadata": {},
          "execution_count": 48
        }
      ]
    },
    {
      "cell_type": "code",
      "source": [
        "y_data_prob_list =[]"
      ],
      "metadata": {
        "id": "XSd-yZ1swBcn"
      },
      "id": "XSd-yZ1swBcn",
      "execution_count": 49,
      "outputs": []
    },
    {
      "cell_type": "code",
      "source": [
        "y_data_prob_list.clear()\n",
        "for i in range(len(y_data_prob)):\n",
        "  y_data_prob_list.append(y_data_prob[i][1])"
      ],
      "metadata": {
        "id": "lRrAPo5GwGda"
      },
      "id": "lRrAPo5GwGda",
      "execution_count": 51,
      "outputs": []
    },
    {
      "cell_type": "code",
      "source": [
        "y_image_prob[0:5]"
      ],
      "metadata": {
        "colab": {
          "base_uri": "https://localhost:8080/"
        },
        "id": "rBWYWB2EwbiS",
        "outputId": "97cdca06-49fe-41f2-9f06-f6d0712c9bcb"
      },
      "id": "rBWYWB2EwbiS",
      "execution_count": 61,
      "outputs": [
        {
          "output_type": "execute_result",
          "data": {
            "text/plain": [
              "[0.9097335, 0.26028273, 0.89759135, 0.00020162167, 0.008589776]"
            ]
          },
          "metadata": {},
          "execution_count": 61
        }
      ]
    },
    {
      "cell_type": "code",
      "execution_count": 70,
      "id": "2bed27d8-bef4-464d-b219-77bddfaccc49",
      "metadata": {
        "tags": [],
        "colab": {
          "base_uri": "https://localhost:8080/"
        },
        "id": "2bed27d8-bef4-464d-b219-77bddfaccc49",
        "outputId": "72f83e23-c540-4ba1-89da-8a7ea7fd3612"
      },
      "outputs": [
        {
          "output_type": "stream",
          "name": "stdout",
          "text": [
            "y_data_prob shape: 762\n",
            "y_image_prob shape: 762\n",
            "target shape: (762,)\n"
          ]
        }
      ],
      "source": [
        "\n",
        "print(f\"y_data_prob shape: {len(y_data_prob_list)}\")\n",
        "#print(f\"y_image_prob shape: {y_image_prob.shape}\")\n",
        "print(f\"y_image_prob shape: {len(y_image_prob)}\")\n",
        "print(f\"target shape: {image_data['target'].values.shape}\")\n",
        "\n",
        "#y_data_prob_trimmed = y_data_prob[:762]  # Take the first 762 elements\n",
        "y_data_prob_trimmed = y_data_prob_list  # Take the first 762 elements\n",
        "\n",
        "target = image_data['target']\n",
        "\n",
        "# Create a DataFrame\n",
        "df = pd.DataFrame({\n",
        "    'y_data_prob': y_data_prob_trimmed,\n",
        "    'y_image_prob': y_image_prob,\n",
        "    'target': target  # Ensure target is in the right format\n",
        "})\n"
      ]
    },
    {
      "cell_type": "code",
      "execution_count": 71,
      "id": "e3e3a8db-69bd-49f0-a429-acd4cafe562d",
      "metadata": {
        "tags": [],
        "colab": {
          "base_uri": "https://localhost:8080/",
          "height": 206
        },
        "id": "e3e3a8db-69bd-49f0-a429-acd4cafe562d",
        "outputId": "c3d5eeee-ab9e-425b-a89d-32625cc96fdc"
      },
      "outputs": [
        {
          "output_type": "execute_result",
          "data": {
            "text/plain": [
              "      y_data_prob  y_image_prob  target\n",
              "387      0.926075      0.860457       1\n",
              "935      0.619048      0.016416       1\n",
              "1245     0.836230      0.966905       1\n",
              "1846     0.828447      0.810337       1\n",
              "3478     0.884509      0.238706       1"
            ],
            "text/html": [
              "\n",
              "  <div id=\"df-de04496f-8675-426f-abc4-86bc88596e54\" class=\"colab-df-container\">\n",
              "    <div>\n",
              "<style scoped>\n",
              "    .dataframe tbody tr th:only-of-type {\n",
              "        vertical-align: middle;\n",
              "    }\n",
              "\n",
              "    .dataframe tbody tr th {\n",
              "        vertical-align: top;\n",
              "    }\n",
              "\n",
              "    .dataframe thead th {\n",
              "        text-align: right;\n",
              "    }\n",
              "</style>\n",
              "<table border=\"1\" class=\"dataframe\">\n",
              "  <thead>\n",
              "    <tr style=\"text-align: right;\">\n",
              "      <th></th>\n",
              "      <th>y_data_prob</th>\n",
              "      <th>y_image_prob</th>\n",
              "      <th>target</th>\n",
              "    </tr>\n",
              "  </thead>\n",
              "  <tbody>\n",
              "    <tr>\n",
              "      <th>387</th>\n",
              "      <td>0.926075</td>\n",
              "      <td>0.860457</td>\n",
              "      <td>1</td>\n",
              "    </tr>\n",
              "    <tr>\n",
              "      <th>935</th>\n",
              "      <td>0.619048</td>\n",
              "      <td>0.016416</td>\n",
              "      <td>1</td>\n",
              "    </tr>\n",
              "    <tr>\n",
              "      <th>1245</th>\n",
              "      <td>0.836230</td>\n",
              "      <td>0.966905</td>\n",
              "      <td>1</td>\n",
              "    </tr>\n",
              "    <tr>\n",
              "      <th>1846</th>\n",
              "      <td>0.828447</td>\n",
              "      <td>0.810337</td>\n",
              "      <td>1</td>\n",
              "    </tr>\n",
              "    <tr>\n",
              "      <th>3478</th>\n",
              "      <td>0.884509</td>\n",
              "      <td>0.238706</td>\n",
              "      <td>1</td>\n",
              "    </tr>\n",
              "  </tbody>\n",
              "</table>\n",
              "</div>\n",
              "    <div class=\"colab-df-buttons\">\n",
              "\n",
              "  <div class=\"colab-df-container\">\n",
              "    <button class=\"colab-df-convert\" onclick=\"convertToInteractive('df-de04496f-8675-426f-abc4-86bc88596e54')\"\n",
              "            title=\"Convert this dataframe to an interactive table.\"\n",
              "            style=\"display:none;\">\n",
              "\n",
              "  <svg xmlns=\"http://www.w3.org/2000/svg\" height=\"24px\" viewBox=\"0 -960 960 960\">\n",
              "    <path d=\"M120-120v-720h720v720H120Zm60-500h600v-160H180v160Zm220 220h160v-160H400v160Zm0 220h160v-160H400v160ZM180-400h160v-160H180v160Zm440 0h160v-160H620v160ZM180-180h160v-160H180v160Zm440 0h160v-160H620v160Z\"/>\n",
              "  </svg>\n",
              "    </button>\n",
              "\n",
              "  <style>\n",
              "    .colab-df-container {\n",
              "      display:flex;\n",
              "      gap: 12px;\n",
              "    }\n",
              "\n",
              "    .colab-df-convert {\n",
              "      background-color: #E8F0FE;\n",
              "      border: none;\n",
              "      border-radius: 50%;\n",
              "      cursor: pointer;\n",
              "      display: none;\n",
              "      fill: #1967D2;\n",
              "      height: 32px;\n",
              "      padding: 0 0 0 0;\n",
              "      width: 32px;\n",
              "    }\n",
              "\n",
              "    .colab-df-convert:hover {\n",
              "      background-color: #E2EBFA;\n",
              "      box-shadow: 0px 1px 2px rgba(60, 64, 67, 0.3), 0px 1px 3px 1px rgba(60, 64, 67, 0.15);\n",
              "      fill: #174EA6;\n",
              "    }\n",
              "\n",
              "    .colab-df-buttons div {\n",
              "      margin-bottom: 4px;\n",
              "    }\n",
              "\n",
              "    [theme=dark] .colab-df-convert {\n",
              "      background-color: #3B4455;\n",
              "      fill: #D2E3FC;\n",
              "    }\n",
              "\n",
              "    [theme=dark] .colab-df-convert:hover {\n",
              "      background-color: #434B5C;\n",
              "      box-shadow: 0px 1px 3px 1px rgba(0, 0, 0, 0.15);\n",
              "      filter: drop-shadow(0px 1px 2px rgba(0, 0, 0, 0.3));\n",
              "      fill: #FFFFFF;\n",
              "    }\n",
              "  </style>\n",
              "\n",
              "    <script>\n",
              "      const buttonEl =\n",
              "        document.querySelector('#df-de04496f-8675-426f-abc4-86bc88596e54 button.colab-df-convert');\n",
              "      buttonEl.style.display =\n",
              "        google.colab.kernel.accessAllowed ? 'block' : 'none';\n",
              "\n",
              "      async function convertToInteractive(key) {\n",
              "        const element = document.querySelector('#df-de04496f-8675-426f-abc4-86bc88596e54');\n",
              "        const dataTable =\n",
              "          await google.colab.kernel.invokeFunction('convertToInteractive',\n",
              "                                                    [key], {});\n",
              "        if (!dataTable) return;\n",
              "\n",
              "        const docLinkHtml = 'Like what you see? Visit the ' +\n",
              "          '<a target=\"_blank\" href=https://colab.research.google.com/notebooks/data_table.ipynb>data table notebook</a>'\n",
              "          + ' to learn more about interactive tables.';\n",
              "        element.innerHTML = '';\n",
              "        dataTable['output_type'] = 'display_data';\n",
              "        await google.colab.output.renderOutput(dataTable, element);\n",
              "        const docLink = document.createElement('div');\n",
              "        docLink.innerHTML = docLinkHtml;\n",
              "        element.appendChild(docLink);\n",
              "      }\n",
              "    </script>\n",
              "  </div>\n",
              "\n",
              "\n",
              "<div id=\"df-f528cdc1-3a05-4085-a29f-2876d8c276ea\">\n",
              "  <button class=\"colab-df-quickchart\" onclick=\"quickchart('df-f528cdc1-3a05-4085-a29f-2876d8c276ea')\"\n",
              "            title=\"Suggest charts\"\n",
              "            style=\"display:none;\">\n",
              "\n",
              "<svg xmlns=\"http://www.w3.org/2000/svg\" height=\"24px\"viewBox=\"0 0 24 24\"\n",
              "     width=\"24px\">\n",
              "    <g>\n",
              "        <path d=\"M19 3H5c-1.1 0-2 .9-2 2v14c0 1.1.9 2 2 2h14c1.1 0 2-.9 2-2V5c0-1.1-.9-2-2-2zM9 17H7v-7h2v7zm4 0h-2V7h2v10zm4 0h-2v-4h2v4z\"/>\n",
              "    </g>\n",
              "</svg>\n",
              "  </button>\n",
              "\n",
              "<style>\n",
              "  .colab-df-quickchart {\n",
              "      --bg-color: #E8F0FE;\n",
              "      --fill-color: #1967D2;\n",
              "      --hover-bg-color: #E2EBFA;\n",
              "      --hover-fill-color: #174EA6;\n",
              "      --disabled-fill-color: #AAA;\n",
              "      --disabled-bg-color: #DDD;\n",
              "  }\n",
              "\n",
              "  [theme=dark] .colab-df-quickchart {\n",
              "      --bg-color: #3B4455;\n",
              "      --fill-color: #D2E3FC;\n",
              "      --hover-bg-color: #434B5C;\n",
              "      --hover-fill-color: #FFFFFF;\n",
              "      --disabled-bg-color: #3B4455;\n",
              "      --disabled-fill-color: #666;\n",
              "  }\n",
              "\n",
              "  .colab-df-quickchart {\n",
              "    background-color: var(--bg-color);\n",
              "    border: none;\n",
              "    border-radius: 50%;\n",
              "    cursor: pointer;\n",
              "    display: none;\n",
              "    fill: var(--fill-color);\n",
              "    height: 32px;\n",
              "    padding: 0;\n",
              "    width: 32px;\n",
              "  }\n",
              "\n",
              "  .colab-df-quickchart:hover {\n",
              "    background-color: var(--hover-bg-color);\n",
              "    box-shadow: 0 1px 2px rgba(60, 64, 67, 0.3), 0 1px 3px 1px rgba(60, 64, 67, 0.15);\n",
              "    fill: var(--button-hover-fill-color);\n",
              "  }\n",
              "\n",
              "  .colab-df-quickchart-complete:disabled,\n",
              "  .colab-df-quickchart-complete:disabled:hover {\n",
              "    background-color: var(--disabled-bg-color);\n",
              "    fill: var(--disabled-fill-color);\n",
              "    box-shadow: none;\n",
              "  }\n",
              "\n",
              "  .colab-df-spinner {\n",
              "    border: 2px solid var(--fill-color);\n",
              "    border-color: transparent;\n",
              "    border-bottom-color: var(--fill-color);\n",
              "    animation:\n",
              "      spin 1s steps(1) infinite;\n",
              "  }\n",
              "\n",
              "  @keyframes spin {\n",
              "    0% {\n",
              "      border-color: transparent;\n",
              "      border-bottom-color: var(--fill-color);\n",
              "      border-left-color: var(--fill-color);\n",
              "    }\n",
              "    20% {\n",
              "      border-color: transparent;\n",
              "      border-left-color: var(--fill-color);\n",
              "      border-top-color: var(--fill-color);\n",
              "    }\n",
              "    30% {\n",
              "      border-color: transparent;\n",
              "      border-left-color: var(--fill-color);\n",
              "      border-top-color: var(--fill-color);\n",
              "      border-right-color: var(--fill-color);\n",
              "    }\n",
              "    40% {\n",
              "      border-color: transparent;\n",
              "      border-right-color: var(--fill-color);\n",
              "      border-top-color: var(--fill-color);\n",
              "    }\n",
              "    60% {\n",
              "      border-color: transparent;\n",
              "      border-right-color: var(--fill-color);\n",
              "    }\n",
              "    80% {\n",
              "      border-color: transparent;\n",
              "      border-right-color: var(--fill-color);\n",
              "      border-bottom-color: var(--fill-color);\n",
              "    }\n",
              "    90% {\n",
              "      border-color: transparent;\n",
              "      border-bottom-color: var(--fill-color);\n",
              "    }\n",
              "  }\n",
              "</style>\n",
              "\n",
              "  <script>\n",
              "    async function quickchart(key) {\n",
              "      const quickchartButtonEl =\n",
              "        document.querySelector('#' + key + ' button');\n",
              "      quickchartButtonEl.disabled = true;  // To prevent multiple clicks.\n",
              "      quickchartButtonEl.classList.add('colab-df-spinner');\n",
              "      try {\n",
              "        const charts = await google.colab.kernel.invokeFunction(\n",
              "            'suggestCharts', [key], {});\n",
              "      } catch (error) {\n",
              "        console.error('Error during call to suggestCharts:', error);\n",
              "      }\n",
              "      quickchartButtonEl.classList.remove('colab-df-spinner');\n",
              "      quickchartButtonEl.classList.add('colab-df-quickchart-complete');\n",
              "    }\n",
              "    (() => {\n",
              "      let quickchartButtonEl =\n",
              "        document.querySelector('#df-f528cdc1-3a05-4085-a29f-2876d8c276ea button');\n",
              "      quickchartButtonEl.style.display =\n",
              "        google.colab.kernel.accessAllowed ? 'block' : 'none';\n",
              "    })();\n",
              "  </script>\n",
              "</div>\n",
              "\n",
              "    </div>\n",
              "  </div>\n"
            ],
            "application/vnd.google.colaboratory.intrinsic+json": {
              "type": "dataframe",
              "variable_name": "df",
              "summary": "{\n  \"name\": \"df\",\n  \"rows\": 762,\n  \"fields\": [\n    {\n      \"column\": \"y_data_prob\",\n      \"properties\": {\n        \"dtype\": \"number\",\n        \"std\": 0.3764016426937907,\n        \"min\": 0.0,\n        \"max\": 0.9978814686817169,\n        \"num_unique_values\": 750,\n        \"samples\": [\n          0.5284091768701152,\n          0.8543078465800064,\n          0.9558268493685724\n        ],\n        \"semantic_type\": \"\",\n        \"description\": \"\"\n      }\n    },\n    {\n      \"column\": \"y_image_prob\",\n      \"properties\": {\n        \"dtype\": \"float32\",\n        \"num_unique_values\": 762,\n        \"samples\": [\n          0.9996035695075989,\n          0.7431123852729797,\n          0.9958552718162537\n        ],\n        \"semantic_type\": \"\",\n        \"description\": \"\"\n      }\n    },\n    {\n      \"column\": \"target\",\n      \"properties\": {\n        \"dtype\": \"number\",\n        \"std\": 0,\n        \"min\": 0,\n        \"max\": 1,\n        \"num_unique_values\": 2,\n        \"samples\": [\n          0,\n          1\n        ],\n        \"semantic_type\": \"\",\n        \"description\": \"\"\n      }\n    }\n  ]\n}"
            }
          },
          "metadata": {},
          "execution_count": 71
        }
      ],
      "source": [
        "df.head()"
      ]
    },
    {
      "cell_type": "code",
      "execution_count": 72,
      "id": "090dde04-2049-4089-b455-db137a201e14",
      "metadata": {
        "tags": [],
        "id": "090dde04-2049-4089-b455-db137a201e14"
      },
      "outputs": [],
      "source": [
        "from sklearn.model_selection import train_test_split"
      ]
    },
    {
      "cell_type": "code",
      "execution_count": 73,
      "id": "d0af18c3-263a-47c6-9080-4d4fcad755a1",
      "metadata": {
        "tags": [],
        "id": "d0af18c3-263a-47c6-9080-4d4fcad755a1"
      },
      "outputs": [],
      "source": [
        "X = df.drop('target', axis = 1)\n",
        "y = df['target']"
      ]
    },
    {
      "cell_type": "code",
      "execution_count": 74,
      "id": "4b6351ca-b856-4b94-a626-8c383a08e208",
      "metadata": {
        "tags": [],
        "id": "4b6351ca-b856-4b94-a626-8c383a08e208"
      },
      "outputs": [],
      "source": [
        "X_train, X_test, y_train, y_test = train_test_split(X, y, random_state = 42, test_size = 0.2, stratify=y)"
      ]
    },
    {
      "cell_type": "code",
      "execution_count": 75,
      "id": "8f1fc245-9f1f-4011-b8ad-e5db61ed9982",
      "metadata": {
        "tags": [],
        "colab": {
          "base_uri": "https://localhost:8080/",
          "height": 80
        },
        "id": "8f1fc245-9f1f-4011-b8ad-e5db61ed9982",
        "outputId": "6bec1e84-cb28-44c8-bc50-b37627db8bea"
      },
      "outputs": [
        {
          "output_type": "execute_result",
          "data": {
            "text/plain": [
              "LogisticRegression()"
            ],
            "text/html": [
              "<style>#sk-container-id-1 {\n",
              "  /* Definition of color scheme common for light and dark mode */\n",
              "  --sklearn-color-text: black;\n",
              "  --sklearn-color-line: gray;\n",
              "  /* Definition of color scheme for unfitted estimators */\n",
              "  --sklearn-color-unfitted-level-0: #fff5e6;\n",
              "  --sklearn-color-unfitted-level-1: #f6e4d2;\n",
              "  --sklearn-color-unfitted-level-2: #ffe0b3;\n",
              "  --sklearn-color-unfitted-level-3: chocolate;\n",
              "  /* Definition of color scheme for fitted estimators */\n",
              "  --sklearn-color-fitted-level-0: #f0f8ff;\n",
              "  --sklearn-color-fitted-level-1: #d4ebff;\n",
              "  --sklearn-color-fitted-level-2: #b3dbfd;\n",
              "  --sklearn-color-fitted-level-3: cornflowerblue;\n",
              "\n",
              "  /* Specific color for light theme */\n",
              "  --sklearn-color-text-on-default-background: var(--sg-text-color, var(--theme-code-foreground, var(--jp-content-font-color1, black)));\n",
              "  --sklearn-color-background: var(--sg-background-color, var(--theme-background, var(--jp-layout-color0, white)));\n",
              "  --sklearn-color-border-box: var(--sg-text-color, var(--theme-code-foreground, var(--jp-content-font-color1, black)));\n",
              "  --sklearn-color-icon: #696969;\n",
              "\n",
              "  @media (prefers-color-scheme: dark) {\n",
              "    /* Redefinition of color scheme for dark theme */\n",
              "    --sklearn-color-text-on-default-background: var(--sg-text-color, var(--theme-code-foreground, var(--jp-content-font-color1, white)));\n",
              "    --sklearn-color-background: var(--sg-background-color, var(--theme-background, var(--jp-layout-color0, #111)));\n",
              "    --sklearn-color-border-box: var(--sg-text-color, var(--theme-code-foreground, var(--jp-content-font-color1, white)));\n",
              "    --sklearn-color-icon: #878787;\n",
              "  }\n",
              "}\n",
              "\n",
              "#sk-container-id-1 {\n",
              "  color: var(--sklearn-color-text);\n",
              "}\n",
              "\n",
              "#sk-container-id-1 pre {\n",
              "  padding: 0;\n",
              "}\n",
              "\n",
              "#sk-container-id-1 input.sk-hidden--visually {\n",
              "  border: 0;\n",
              "  clip: rect(1px 1px 1px 1px);\n",
              "  clip: rect(1px, 1px, 1px, 1px);\n",
              "  height: 1px;\n",
              "  margin: -1px;\n",
              "  overflow: hidden;\n",
              "  padding: 0;\n",
              "  position: absolute;\n",
              "  width: 1px;\n",
              "}\n",
              "\n",
              "#sk-container-id-1 div.sk-dashed-wrapped {\n",
              "  border: 1px dashed var(--sklearn-color-line);\n",
              "  margin: 0 0.4em 0.5em 0.4em;\n",
              "  box-sizing: border-box;\n",
              "  padding-bottom: 0.4em;\n",
              "  background-color: var(--sklearn-color-background);\n",
              "}\n",
              "\n",
              "#sk-container-id-1 div.sk-container {\n",
              "  /* jupyter's `normalize.less` sets `[hidden] { display: none; }`\n",
              "     but bootstrap.min.css set `[hidden] { display: none !important; }`\n",
              "     so we also need the `!important` here to be able to override the\n",
              "     default hidden behavior on the sphinx rendered scikit-learn.org.\n",
              "     See: https://github.com/scikit-learn/scikit-learn/issues/21755 */\n",
              "  display: inline-block !important;\n",
              "  position: relative;\n",
              "}\n",
              "\n",
              "#sk-container-id-1 div.sk-text-repr-fallback {\n",
              "  display: none;\n",
              "}\n",
              "\n",
              "div.sk-parallel-item,\n",
              "div.sk-serial,\n",
              "div.sk-item {\n",
              "  /* draw centered vertical line to link estimators */\n",
              "  background-image: linear-gradient(var(--sklearn-color-text-on-default-background), var(--sklearn-color-text-on-default-background));\n",
              "  background-size: 2px 100%;\n",
              "  background-repeat: no-repeat;\n",
              "  background-position: center center;\n",
              "}\n",
              "\n",
              "/* Parallel-specific style estimator block */\n",
              "\n",
              "#sk-container-id-1 div.sk-parallel-item::after {\n",
              "  content: \"\";\n",
              "  width: 100%;\n",
              "  border-bottom: 2px solid var(--sklearn-color-text-on-default-background);\n",
              "  flex-grow: 1;\n",
              "}\n",
              "\n",
              "#sk-container-id-1 div.sk-parallel {\n",
              "  display: flex;\n",
              "  align-items: stretch;\n",
              "  justify-content: center;\n",
              "  background-color: var(--sklearn-color-background);\n",
              "  position: relative;\n",
              "}\n",
              "\n",
              "#sk-container-id-1 div.sk-parallel-item {\n",
              "  display: flex;\n",
              "  flex-direction: column;\n",
              "}\n",
              "\n",
              "#sk-container-id-1 div.sk-parallel-item:first-child::after {\n",
              "  align-self: flex-end;\n",
              "  width: 50%;\n",
              "}\n",
              "\n",
              "#sk-container-id-1 div.sk-parallel-item:last-child::after {\n",
              "  align-self: flex-start;\n",
              "  width: 50%;\n",
              "}\n",
              "\n",
              "#sk-container-id-1 div.sk-parallel-item:only-child::after {\n",
              "  width: 0;\n",
              "}\n",
              "\n",
              "/* Serial-specific style estimator block */\n",
              "\n",
              "#sk-container-id-1 div.sk-serial {\n",
              "  display: flex;\n",
              "  flex-direction: column;\n",
              "  align-items: center;\n",
              "  background-color: var(--sklearn-color-background);\n",
              "  padding-right: 1em;\n",
              "  padding-left: 1em;\n",
              "}\n",
              "\n",
              "\n",
              "/* Toggleable style: style used for estimator/Pipeline/ColumnTransformer box that is\n",
              "clickable and can be expanded/collapsed.\n",
              "- Pipeline and ColumnTransformer use this feature and define the default style\n",
              "- Estimators will overwrite some part of the style using the `sk-estimator` class\n",
              "*/\n",
              "\n",
              "/* Pipeline and ColumnTransformer style (default) */\n",
              "\n",
              "#sk-container-id-1 div.sk-toggleable {\n",
              "  /* Default theme specific background. It is overwritten whether we have a\n",
              "  specific estimator or a Pipeline/ColumnTransformer */\n",
              "  background-color: var(--sklearn-color-background);\n",
              "}\n",
              "\n",
              "/* Toggleable label */\n",
              "#sk-container-id-1 label.sk-toggleable__label {\n",
              "  cursor: pointer;\n",
              "  display: block;\n",
              "  width: 100%;\n",
              "  margin-bottom: 0;\n",
              "  padding: 0.5em;\n",
              "  box-sizing: border-box;\n",
              "  text-align: center;\n",
              "}\n",
              "\n",
              "#sk-container-id-1 label.sk-toggleable__label-arrow:before {\n",
              "  /* Arrow on the left of the label */\n",
              "  content: \"▸\";\n",
              "  float: left;\n",
              "  margin-right: 0.25em;\n",
              "  color: var(--sklearn-color-icon);\n",
              "}\n",
              "\n",
              "#sk-container-id-1 label.sk-toggleable__label-arrow:hover:before {\n",
              "  color: var(--sklearn-color-text);\n",
              "}\n",
              "\n",
              "/* Toggleable content - dropdown */\n",
              "\n",
              "#sk-container-id-1 div.sk-toggleable__content {\n",
              "  max-height: 0;\n",
              "  max-width: 0;\n",
              "  overflow: hidden;\n",
              "  text-align: left;\n",
              "  /* unfitted */\n",
              "  background-color: var(--sklearn-color-unfitted-level-0);\n",
              "}\n",
              "\n",
              "#sk-container-id-1 div.sk-toggleable__content.fitted {\n",
              "  /* fitted */\n",
              "  background-color: var(--sklearn-color-fitted-level-0);\n",
              "}\n",
              "\n",
              "#sk-container-id-1 div.sk-toggleable__content pre {\n",
              "  margin: 0.2em;\n",
              "  border-radius: 0.25em;\n",
              "  color: var(--sklearn-color-text);\n",
              "  /* unfitted */\n",
              "  background-color: var(--sklearn-color-unfitted-level-0);\n",
              "}\n",
              "\n",
              "#sk-container-id-1 div.sk-toggleable__content.fitted pre {\n",
              "  /* unfitted */\n",
              "  background-color: var(--sklearn-color-fitted-level-0);\n",
              "}\n",
              "\n",
              "#sk-container-id-1 input.sk-toggleable__control:checked~div.sk-toggleable__content {\n",
              "  /* Expand drop-down */\n",
              "  max-height: 200px;\n",
              "  max-width: 100%;\n",
              "  overflow: auto;\n",
              "}\n",
              "\n",
              "#sk-container-id-1 input.sk-toggleable__control:checked~label.sk-toggleable__label-arrow:before {\n",
              "  content: \"▾\";\n",
              "}\n",
              "\n",
              "/* Pipeline/ColumnTransformer-specific style */\n",
              "\n",
              "#sk-container-id-1 div.sk-label input.sk-toggleable__control:checked~label.sk-toggleable__label {\n",
              "  color: var(--sklearn-color-text);\n",
              "  background-color: var(--sklearn-color-unfitted-level-2);\n",
              "}\n",
              "\n",
              "#sk-container-id-1 div.sk-label.fitted input.sk-toggleable__control:checked~label.sk-toggleable__label {\n",
              "  background-color: var(--sklearn-color-fitted-level-2);\n",
              "}\n",
              "\n",
              "/* Estimator-specific style */\n",
              "\n",
              "/* Colorize estimator box */\n",
              "#sk-container-id-1 div.sk-estimator input.sk-toggleable__control:checked~label.sk-toggleable__label {\n",
              "  /* unfitted */\n",
              "  background-color: var(--sklearn-color-unfitted-level-2);\n",
              "}\n",
              "\n",
              "#sk-container-id-1 div.sk-estimator.fitted input.sk-toggleable__control:checked~label.sk-toggleable__label {\n",
              "  /* fitted */\n",
              "  background-color: var(--sklearn-color-fitted-level-2);\n",
              "}\n",
              "\n",
              "#sk-container-id-1 div.sk-label label.sk-toggleable__label,\n",
              "#sk-container-id-1 div.sk-label label {\n",
              "  /* The background is the default theme color */\n",
              "  color: var(--sklearn-color-text-on-default-background);\n",
              "}\n",
              "\n",
              "/* On hover, darken the color of the background */\n",
              "#sk-container-id-1 div.sk-label:hover label.sk-toggleable__label {\n",
              "  color: var(--sklearn-color-text);\n",
              "  background-color: var(--sklearn-color-unfitted-level-2);\n",
              "}\n",
              "\n",
              "/* Label box, darken color on hover, fitted */\n",
              "#sk-container-id-1 div.sk-label.fitted:hover label.sk-toggleable__label.fitted {\n",
              "  color: var(--sklearn-color-text);\n",
              "  background-color: var(--sklearn-color-fitted-level-2);\n",
              "}\n",
              "\n",
              "/* Estimator label */\n",
              "\n",
              "#sk-container-id-1 div.sk-label label {\n",
              "  font-family: monospace;\n",
              "  font-weight: bold;\n",
              "  display: inline-block;\n",
              "  line-height: 1.2em;\n",
              "}\n",
              "\n",
              "#sk-container-id-1 div.sk-label-container {\n",
              "  text-align: center;\n",
              "}\n",
              "\n",
              "/* Estimator-specific */\n",
              "#sk-container-id-1 div.sk-estimator {\n",
              "  font-family: monospace;\n",
              "  border: 1px dotted var(--sklearn-color-border-box);\n",
              "  border-radius: 0.25em;\n",
              "  box-sizing: border-box;\n",
              "  margin-bottom: 0.5em;\n",
              "  /* unfitted */\n",
              "  background-color: var(--sklearn-color-unfitted-level-0);\n",
              "}\n",
              "\n",
              "#sk-container-id-1 div.sk-estimator.fitted {\n",
              "  /* fitted */\n",
              "  background-color: var(--sklearn-color-fitted-level-0);\n",
              "}\n",
              "\n",
              "/* on hover */\n",
              "#sk-container-id-1 div.sk-estimator:hover {\n",
              "  /* unfitted */\n",
              "  background-color: var(--sklearn-color-unfitted-level-2);\n",
              "}\n",
              "\n",
              "#sk-container-id-1 div.sk-estimator.fitted:hover {\n",
              "  /* fitted */\n",
              "  background-color: var(--sklearn-color-fitted-level-2);\n",
              "}\n",
              "\n",
              "/* Specification for estimator info (e.g. \"i\" and \"?\") */\n",
              "\n",
              "/* Common style for \"i\" and \"?\" */\n",
              "\n",
              ".sk-estimator-doc-link,\n",
              "a:link.sk-estimator-doc-link,\n",
              "a:visited.sk-estimator-doc-link {\n",
              "  float: right;\n",
              "  font-size: smaller;\n",
              "  line-height: 1em;\n",
              "  font-family: monospace;\n",
              "  background-color: var(--sklearn-color-background);\n",
              "  border-radius: 1em;\n",
              "  height: 1em;\n",
              "  width: 1em;\n",
              "  text-decoration: none !important;\n",
              "  margin-left: 1ex;\n",
              "  /* unfitted */\n",
              "  border: var(--sklearn-color-unfitted-level-1) 1pt solid;\n",
              "  color: var(--sklearn-color-unfitted-level-1);\n",
              "}\n",
              "\n",
              ".sk-estimator-doc-link.fitted,\n",
              "a:link.sk-estimator-doc-link.fitted,\n",
              "a:visited.sk-estimator-doc-link.fitted {\n",
              "  /* fitted */\n",
              "  border: var(--sklearn-color-fitted-level-1) 1pt solid;\n",
              "  color: var(--sklearn-color-fitted-level-1);\n",
              "}\n",
              "\n",
              "/* On hover */\n",
              "div.sk-estimator:hover .sk-estimator-doc-link:hover,\n",
              ".sk-estimator-doc-link:hover,\n",
              "div.sk-label-container:hover .sk-estimator-doc-link:hover,\n",
              ".sk-estimator-doc-link:hover {\n",
              "  /* unfitted */\n",
              "  background-color: var(--sklearn-color-unfitted-level-3);\n",
              "  color: var(--sklearn-color-background);\n",
              "  text-decoration: none;\n",
              "}\n",
              "\n",
              "div.sk-estimator.fitted:hover .sk-estimator-doc-link.fitted:hover,\n",
              ".sk-estimator-doc-link.fitted:hover,\n",
              "div.sk-label-container:hover .sk-estimator-doc-link.fitted:hover,\n",
              ".sk-estimator-doc-link.fitted:hover {\n",
              "  /* fitted */\n",
              "  background-color: var(--sklearn-color-fitted-level-3);\n",
              "  color: var(--sklearn-color-background);\n",
              "  text-decoration: none;\n",
              "}\n",
              "\n",
              "/* Span, style for the box shown on hovering the info icon */\n",
              ".sk-estimator-doc-link span {\n",
              "  display: none;\n",
              "  z-index: 9999;\n",
              "  position: relative;\n",
              "  font-weight: normal;\n",
              "  right: .2ex;\n",
              "  padding: .5ex;\n",
              "  margin: .5ex;\n",
              "  width: min-content;\n",
              "  min-width: 20ex;\n",
              "  max-width: 50ex;\n",
              "  color: var(--sklearn-color-text);\n",
              "  box-shadow: 2pt 2pt 4pt #999;\n",
              "  /* unfitted */\n",
              "  background: var(--sklearn-color-unfitted-level-0);\n",
              "  border: .5pt solid var(--sklearn-color-unfitted-level-3);\n",
              "}\n",
              "\n",
              ".sk-estimator-doc-link.fitted span {\n",
              "  /* fitted */\n",
              "  background: var(--sklearn-color-fitted-level-0);\n",
              "  border: var(--sklearn-color-fitted-level-3);\n",
              "}\n",
              "\n",
              ".sk-estimator-doc-link:hover span {\n",
              "  display: block;\n",
              "}\n",
              "\n",
              "/* \"?\"-specific style due to the `<a>` HTML tag */\n",
              "\n",
              "#sk-container-id-1 a.estimator_doc_link {\n",
              "  float: right;\n",
              "  font-size: 1rem;\n",
              "  line-height: 1em;\n",
              "  font-family: monospace;\n",
              "  background-color: var(--sklearn-color-background);\n",
              "  border-radius: 1rem;\n",
              "  height: 1rem;\n",
              "  width: 1rem;\n",
              "  text-decoration: none;\n",
              "  /* unfitted */\n",
              "  color: var(--sklearn-color-unfitted-level-1);\n",
              "  border: var(--sklearn-color-unfitted-level-1) 1pt solid;\n",
              "}\n",
              "\n",
              "#sk-container-id-1 a.estimator_doc_link.fitted {\n",
              "  /* fitted */\n",
              "  border: var(--sklearn-color-fitted-level-1) 1pt solid;\n",
              "  color: var(--sklearn-color-fitted-level-1);\n",
              "}\n",
              "\n",
              "/* On hover */\n",
              "#sk-container-id-1 a.estimator_doc_link:hover {\n",
              "  /* unfitted */\n",
              "  background-color: var(--sklearn-color-unfitted-level-3);\n",
              "  color: var(--sklearn-color-background);\n",
              "  text-decoration: none;\n",
              "}\n",
              "\n",
              "#sk-container-id-1 a.estimator_doc_link.fitted:hover {\n",
              "  /* fitted */\n",
              "  background-color: var(--sklearn-color-fitted-level-3);\n",
              "}\n",
              "</style><div id=\"sk-container-id-1\" class=\"sk-top-container\"><div class=\"sk-text-repr-fallback\"><pre>LogisticRegression()</pre><b>In a Jupyter environment, please rerun this cell to show the HTML representation or trust the notebook. <br />On GitHub, the HTML representation is unable to render, please try loading this page with nbviewer.org.</b></div><div class=\"sk-container\" hidden><div class=\"sk-item\"><div class=\"sk-estimator fitted sk-toggleable\"><input class=\"sk-toggleable__control sk-hidden--visually\" id=\"sk-estimator-id-1\" type=\"checkbox\" checked><label for=\"sk-estimator-id-1\" class=\"sk-toggleable__label fitted sk-toggleable__label-arrow fitted\">&nbsp;&nbsp;LogisticRegression<a class=\"sk-estimator-doc-link fitted\" rel=\"noreferrer\" target=\"_blank\" href=\"https://scikit-learn.org/1.5/modules/generated/sklearn.linear_model.LogisticRegression.html\">?<span>Documentation for LogisticRegression</span></a><span class=\"sk-estimator-doc-link fitted\">i<span>Fitted</span></span></label><div class=\"sk-toggleable__content fitted\"><pre>LogisticRegression()</pre></div> </div></div></div></div>"
            ]
          },
          "metadata": {},
          "execution_count": 75
        }
      ],
      "source": [
        "lr_model.fit(X_train, y_train)"
      ]
    },
    {
      "cell_type": "code",
      "execution_count": 76,
      "id": "0dacdb97-cfae-4b7d-b514-2fc8c5fbc2d8",
      "metadata": {
        "tags": [],
        "id": "0dacdb97-cfae-4b7d-b514-2fc8c5fbc2d8"
      },
      "outputs": [],
      "source": [
        "y_pred_final = lr_model.predict(X_test)"
      ]
    },
    {
      "cell_type": "code",
      "execution_count": 77,
      "id": "e117aa5f-84c6-4c6b-afa5-c690f893ec96",
      "metadata": {
        "tags": [],
        "id": "e117aa5f-84c6-4c6b-afa5-c690f893ec96"
      },
      "outputs": [],
      "source": [
        "from sklearn.metrics import confusion_matrix"
      ]
    },
    {
      "cell_type": "code",
      "execution_count": 78,
      "id": "22fe337b-07c4-49ab-ac41-65ffca6571cb",
      "metadata": {
        "tags": [],
        "colab": {
          "base_uri": "https://localhost:8080/"
        },
        "id": "22fe337b-07c4-49ab-ac41-65ffca6571cb",
        "outputId": "6d347f57-9399-4d03-ba49-6e54ab776c5c"
      },
      "outputs": [
        {
          "output_type": "execute_result",
          "data": {
            "text/plain": [
              "array([[76,  1],\n",
              "       [ 2, 74]])"
            ]
          },
          "metadata": {},
          "execution_count": 78
        }
      ],
      "source": [
        "confusion_matrix(y_test, y_pred_final)"
      ]
    },
    {
      "cell_type": "code",
      "execution_count": 79,
      "id": "34871193-6c0e-442d-b15a-efdd45c542e4",
      "metadata": {
        "tags": [],
        "id": "34871193-6c0e-442d-b15a-efdd45c542e4"
      },
      "outputs": [],
      "source": [
        "y_pred_final_prob = lr_model.predict_proba(X_test)"
      ]
    },
    {
      "cell_type": "code",
      "execution_count": 80,
      "id": "6ebc6e30-e014-4a49-85ea-03f984d52c9b",
      "metadata": {
        "tags": [],
        "colab": {
          "base_uri": "https://localhost:8080/"
        },
        "id": "6ebc6e30-e014-4a49-85ea-03f984d52c9b",
        "outputId": "6cecd53a-1e75-4ea7-c319-e057c3741387"
      },
      "outputs": [
        {
          "output_type": "stream",
          "name": "stdout",
          "text": [
            "Sensitivity: 0.97\n",
            "Specificity: 0.99\n"
          ]
        }
      ],
      "source": [
        "from sklearn.metrics import confusion_matrix\n",
        "\n",
        "# Assuming y_test contains true labels and y_pred_final contains predicted labels\n",
        "cm = confusion_matrix(y_test, y_pred_final)\n",
        "\n",
        "# Extract TP, TN, FP, FN\n",
        "tn, fp, fn, tp = cm.ravel()\n",
        "\n",
        "# Calculate sensitivity and specificity\n",
        "sensitivity = tp / (tp + fn) if (tp + fn) > 0 else 0  # True Positive Rate\n",
        "specificity = tn / (tn + fp) if (tn + fp) > 0 else 0  # True Negative Rate\n",
        "\n",
        "# Display results\n",
        "print(f\"Sensitivity: {sensitivity:.2f}\")\n",
        "print(f\"Specificity: {specificity:.2f}\")\n"
      ]
    },
    {
      "cell_type": "code",
      "execution_count": 81,
      "id": "2aaaf167-e87b-426c-9430-b9721230be14",
      "metadata": {
        "tags": [],
        "colab": {
          "base_uri": "https://localhost:8080/"
        },
        "id": "2aaaf167-e87b-426c-9430-b9721230be14",
        "outputId": "b310c53a-c74b-4b60-c494-a5221e1da2e3"
      },
      "outputs": [
        {
          "output_type": "stream",
          "name": "stdout",
          "text": [
            "      y_data_prob  y_image_prob  target\n",
            "387      0.926075      0.860457       1\n",
            "935      0.619048      0.016416       1\n",
            "1245     0.836230      0.966905       1\n",
            "1846     0.828447      0.810337       1\n",
            "3478     0.884509      0.238706       1\n",
            "Accuracy: 0.99\n",
            "Confusion Matrix:\n",
            "[[77  2]\n",
            " [ 0 74]]\n"
          ]
        }
      ],
      "source": [
        "import pandas as pd\n",
        "from sklearn.model_selection import train_test_split\n",
        "from sklearn.tree import DecisionTreeClassifier\n",
        "from sklearn.metrics import accuracy_score, confusion_matrix\n",
        "\n",
        "# Assuming df is already created as per your provided code\n",
        "print(df.head())  # Check the first few rows\n",
        "\n",
        "# Prepare features and target\n",
        "X = df[['y_data_prob', 'y_image_prob']]  # Features\n",
        "y = df['target']  # Target variable\n",
        "\n",
        "# Split the data into training and testing sets\n",
        "X_train, X_test, y_train, y_test = train_test_split(X, y, test_size=0.2, random_state=42)\n",
        "\n",
        "# Initialize the Decision Tree Classifier\n",
        "dt_classifier = DecisionTreeClassifier(random_state=42)\n",
        "\n",
        "# Train the model\n",
        "dt_classifier.fit(X_train, y_train)\n",
        "\n",
        "# Make predictions\n",
        "y_pred = dt_classifier.predict(X_test)\n",
        "\n",
        "# Evaluate the model\n",
        "accuracy = accuracy_score(y_test, y_pred)\n",
        "cm = confusion_matrix(y_test, y_pred)\n",
        "\n",
        "print(f\"Accuracy: {accuracy:.2f}\")\n",
        "print(\"Confusion Matrix:\")\n",
        "print(cm)\n"
      ]
    },
    {
      "cell_type": "code",
      "execution_count": 85,
      "id": "90828fd3-e41e-48ba-ba0b-80c579cc5e67",
      "metadata": {
        "tags": [],
        "colab": {
          "base_uri": "https://localhost:8080/"
        },
        "id": "90828fd3-e41e-48ba-ba0b-80c579cc5e67",
        "outputId": "8d976efb-af54-4162-ddb5-9a063c41907c"
      },
      "outputs": [
        {
          "output_type": "stream",
          "name": "stdout",
          "text": [
            "      y_data_prob  y_image_prob  target\n",
            "387      0.926075      0.860457       1\n",
            "935      0.619048      0.016416       1\n",
            "1245     0.836230      0.966905       1\n",
            "1846     0.828447      0.810337       1\n",
            "3478     0.884509      0.238706       1\n",
            "Accuracy: 0.99\n",
            "Confusion Matrix:\n",
            "[[77  2]\n",
            " [ 0 74]]\n",
            "Sensitivity: 1.00\n",
            "Specificity: 0.97\n"
          ]
        }
      ],
      "source": [
        "import pandas as pd\n",
        "from sklearn.model_selection import train_test_split\n",
        "from sklearn.tree import DecisionTreeClassifier\n",
        "from sklearn.metrics import accuracy_score, confusion_matrix\n",
        "\n",
        "# Assuming df is already created as per your provided code\n",
        "print(df.head())  # Check the first few rows\n",
        "\n",
        "# Prepare features and target\n",
        "X = df[['y_data_prob', 'y_image_prob']]  # Features\n",
        "y = df['target']  # Target variable\n",
        "\n",
        "# Split the data into training and testing sets\n",
        "X_train, X_test, y_train, y_test = train_test_split(X, y, test_size=0.2, random_state=42)\n",
        "\n",
        "# Initialize the Decision Tree Classifier\n",
        "dt_classifier = DecisionTreeClassifier(random_state=42)\n",
        "\n",
        "# Train the model\n",
        "dt_classifier.fit(X_train, y_train)\n",
        "\n",
        "# Make predictions\n",
        "y_pred = dt_classifier.predict(X_test)\n",
        "\n",
        "# Evaluate the model\n",
        "accuracy = accuracy_score(y_test, y_pred)\n",
        "cm = confusion_matrix(y_test, y_pred)\n",
        "\n",
        "# Extract values from confusion matrix\n",
        "TN, FP, FN, TP = cm.ravel()  # Ensure you have a binary classification\n",
        "\n",
        "# Calculate sensitivity and specificity\n",
        "sensitivity = TP / (TP + FN) if (TP + FN) > 0 else 0\n",
        "specificity = TN / (TN + FP) if (TN + FP) > 0 else 0\n",
        "\n",
        "print(f\"Accuracy: {accuracy:.2f}\")\n",
        "print(\"Confusion Matrix:\")\n",
        "print(cm)\n",
        "print(f\"Sensitivity: {sensitivity:.2f}\")\n",
        "print(f\"Specificity: {specificity:.2f}\")\n"
      ]
    },
    {
      "cell_type": "code",
      "source": [],
      "metadata": {
        "id": "H937qmWOxfxk"
      },
      "id": "H937qmWOxfxk",
      "execution_count": null,
      "outputs": []
    }
  ],
  "metadata": {
    "kernelspec": {
      "display_name": "PyTorch-2.2.0",
      "language": "python",
      "name": "pytorch-2.2.0"
    },
    "language_info": {
      "codemirror_mode": {
        "name": "ipython",
        "version": 3
      },
      "file_extension": ".py",
      "mimetype": "text/x-python",
      "name": "python",
      "nbconvert_exporter": "python",
      "pygments_lexer": "ipython3",
      "version": "3.10.13"
    },
    "colab": {
      "provenance": [],
      "gpuType": "V28",
      "include_colab_link": true
    },
    "accelerator": "TPU"
  },
  "nbformat": 4,
  "nbformat_minor": 5
}